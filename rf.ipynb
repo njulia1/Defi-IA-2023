{
 "cells": [
  {
   "cell_type": "code",
   "execution_count": 65,
   "id": "3b1a96d8",
   "metadata": {},
   "outputs": [],
   "source": [
    "import pandas as pd\n",
    "import numpy as np\n",
    "%matplotlib inline\n",
    "import matplotlib.pyplot as plt\n",
    "import seaborn as sns\n",
    "from sklearn.model_selection import GridSearchCV\n",
    "from sklearn.metrics import mean_squared_error\n",
    "from sklearn.ensemble import RandomForestRegressor\n",
    "from sklearn.metrics import r2_score\n",
    "from sklearn.metrics import roc_curve\n",
    "from sklearn.preprocessing import normalize\n",
    "from sklearn.preprocessing import scale\n",
    "\n",
    "from sklearn.model_selection import train_test_split\n",
    "from sklearn.preprocessing import StandardScaler"
   ]
  },
  {
   "cell_type": "code",
<<<<<<< HEAD
   "execution_count": 2,
=======
   "execution_count": 52,
>>>>>>> dd6c744ab074817c8bef8dc5058e47534b627369
   "id": "81b8364d",
   "metadata": {},
   "outputs": [
    {
     "data": {
      "text/html": [
       "<div>\n",
       "<style scoped>\n",
       "    .dataframe tbody tr th:only-of-type {\n",
       "        vertical-align: middle;\n",
       "    }\n",
       "\n",
       "    .dataframe tbody tr th {\n",
       "        vertical-align: top;\n",
       "    }\n",
       "\n",
       "    .dataframe thead th {\n",
       "        text-align: right;\n",
       "    }\n",
       "</style>\n",
       "<table border=\"1\" class=\"dataframe\">\n",
       "  <thead>\n",
       "    <tr style=\"text-align: right;\">\n",
       "      <th></th>\n",
       "      <th>group</th>\n",
       "      <th>brand</th>\n",
       "      <th>city</th>\n",
       "      <th>parking</th>\n",
       "      <th>pool</th>\n",
       "      <th>children_policy</th>\n",
       "      <th>price</th>\n",
       "      <th>stock</th>\n",
       "      <th>date</th>\n",
       "      <th>language</th>\n",
       "      <th>mobile</th>\n",
       "    </tr>\n",
       "  </thead>\n",
       "  <tbody>\n",
       "    <tr>\n",
       "      <th>0</th>\n",
       "      <td>Morriott International</td>\n",
       "      <td>Corlton</td>\n",
       "      <td>amsterdam</td>\n",
       "      <td>1</td>\n",
       "      <td>1</td>\n",
       "      <td>0</td>\n",
       "      <td>366</td>\n",
       "      <td>14</td>\n",
       "      <td>10</td>\n",
       "      <td>austrian</td>\n",
       "      <td>0</td>\n",
       "    </tr>\n",
       "    <tr>\n",
       "      <th>1</th>\n",
       "      <td>Accar Hotels</td>\n",
       "      <td>Safitel</td>\n",
       "      <td>amsterdam</td>\n",
       "      <td>1</td>\n",
       "      <td>0</td>\n",
       "      <td>0</td>\n",
       "      <td>359</td>\n",
       "      <td>10</td>\n",
       "      <td>10</td>\n",
       "      <td>austrian</td>\n",
       "      <td>0</td>\n",
       "    </tr>\n",
       "    <tr>\n",
       "      <th>2</th>\n",
       "      <td>Yin Yang</td>\n",
       "      <td>Ardisson</td>\n",
       "      <td>amsterdam</td>\n",
       "      <td>1</td>\n",
       "      <td>1</td>\n",
       "      <td>0</td>\n",
       "      <td>193</td>\n",
       "      <td>10</td>\n",
       "      <td>10</td>\n",
       "      <td>austrian</td>\n",
       "      <td>0</td>\n",
       "    </tr>\n",
       "    <tr>\n",
       "      <th>3</th>\n",
       "      <td>Boss Western</td>\n",
       "      <td>Boss Western</td>\n",
       "      <td>amsterdam</td>\n",
       "      <td>0</td>\n",
       "      <td>0</td>\n",
       "      <td>0</td>\n",
       "      <td>205</td>\n",
       "      <td>4</td>\n",
       "      <td>10</td>\n",
       "      <td>austrian</td>\n",
       "      <td>0</td>\n",
       "    </tr>\n",
       "    <tr>\n",
       "      <th>4</th>\n",
       "      <td>Accar Hotels</td>\n",
       "      <td>Ibas</td>\n",
       "      <td>amsterdam</td>\n",
       "      <td>1</td>\n",
       "      <td>0</td>\n",
       "      <td>0</td>\n",
       "      <td>86</td>\n",
       "      <td>0</td>\n",
       "      <td>10</td>\n",
       "      <td>austrian</td>\n",
       "      <td>0</td>\n",
       "    </tr>\n",
       "  </tbody>\n",
       "</table>\n",
       "</div>"
      ],
      "text/plain": [
       "                    group         brand       city  parking  pool  \\\n",
       "0  Morriott International       Corlton  amsterdam        1     1   \n",
       "1            Accar Hotels       Safitel  amsterdam        1     0   \n",
       "2                Yin Yang      Ardisson  amsterdam        1     1   \n",
       "3            Boss Western  Boss Western  amsterdam        0     0   \n",
       "4            Accar Hotels          Ibas  amsterdam        1     0   \n",
       "\n",
       "   children_policy  price  stock  date  language  mobile  \n",
       "0                0    366     14    10  austrian       0  \n",
       "1                0    359     10    10  austrian       0  \n",
       "2                0    193     10    10  austrian       0  \n",
       "3                0    205      4    10  austrian       0  \n",
       "4                0     86      0    10  austrian       0  "
      ]
     },
<<<<<<< HEAD
     "execution_count": 2,
=======
     "execution_count": 52,
>>>>>>> dd6c744ab074817c8bef8dc5058e47534b627369
     "metadata": {},
     "output_type": "execute_result"
    }
   ],
   "source": [
    "requests=pd.read_csv(\"data.csv\",sep=\",\",header=0)\n",
    "#requests.index=requests['hotel_id']\n",
    "requests=requests.drop(['hotel_id'],axis=1)\n",
    "requests=requests.drop(['avatar_name'],axis=1)\n",
    "requests.head()"
   ]
  },
  {
   "cell_type": "code",
<<<<<<< HEAD
   "execution_count": 3,
=======
   "execution_count": 53,
>>>>>>> dd6c744ab074817c8bef8dc5058e47534b627369
   "id": "3ace819c",
   "metadata": {},
   "outputs": [],
   "source": [
    "#on transforme les variables en facteur\n",
    "requests=pd.get_dummies(requests, columns=['group','city','brand','language'])"
   ]
  },
  {
   "cell_type": "code",
<<<<<<< HEAD
   "execution_count": 4,
=======
   "execution_count": 54,
   "id": "ab743a68",
   "metadata": {},
   "outputs": [
    {
     "name": "stderr",
     "output_type": "stream",
     "text": [
      "C:\\Users\\tessw\\anaconda3\\lib\\site-packages\\seaborn\\_decorators.py:36: FutureWarning: Pass the following variable as a keyword arg: x. From version 0.12, the only valid positional argument will be `data`, and passing other arguments without an explicit keyword will result in an error or misinterpretation.\n",
      "  warnings.warn(\n"
     ]
    },
    {
     "data": {
      "text/plain": [
       "<AxesSubplot:xlabel='price'>"
      ]
     },
     "execution_count": 54,
     "metadata": {},
     "output_type": "execute_result"
    },
    {
     "data": {
      "image/png": "iVBORw0KGgoAAAANSUhEUgAAAWAAAAEGCAYAAABbzE8LAAAAOXRFWHRTb2Z0d2FyZQBNYXRwbG90bGliIHZlcnNpb24zLjUuMSwgaHR0cHM6Ly9tYXRwbG90bGliLm9yZy/YYfK9AAAACXBIWXMAAAsTAAALEwEAmpwYAAAKRklEQVR4nO3dX4il913H8c83u7H500hdNw11Up2WaSsiXS2JKC2ySPFPI9YLixWkuRArCsOKF9JSKOidCmKYCzGoGKgaQS1KUqhBDaUWmu62mbh1t3bUlHYTu6nBpibb1qY/L86zZlwnye5293xnnnm9YJgzvz2T5/fNMu995plzztQYIwAs3zXdGwDYrwQYoIkAAzQRYIAmAgzQ5OCl3Pnw4cNjdXX1Km0FYJ5OnDjxhTHGzReuX1KAV1dXc/z48Su3K4B9oKo+s9O6SxAATQQYoIkAAzQRYIAmAgzQRIABmggwQBMBBmgiwABNBBigiQADNBFggCYCDNBEgAGaCDBAEwEGaCLAAE0EGKCJAAM0uaTfCTcnGxsb2draWvpxz5w5kyRZWVlZ+rG3W1tby/r6euseYL/btwHe2trKwydP5dkbDi31uAee+WKS5N+/0ve//sAzT7YdG3jOvg1wkjx7w6Gc+863LPWY15/+QJIs/bg77QHo5RowQBMBBmgiwABNBBigiQADNBFggCYCDNBEgAGaCDBAEwEGaCLAAE0EGKCJAAM0EWCAJgIM0ESAAZoIMEATAQZoIsAATQQYoIkAAzQRYIAmAgzQRIABmggwQBMBBmgiwABNBBigiQADNBFggCYCDNBEgAGaCDBAEwEGaCLAAE0EGKCJAAM0EWCAJgIM0ESAAZoIMECTpQR4Y2MjGxsbyzgU7Eq+BtjJwWUcZGtraxmHgV3L1wA7cQkCoIkAAzQRYIAmAgzQRIABmggwQBMBBmgiwABNBBigiQADNBFggCYCDNBEgAGaCDBAEwEGaCLAAE0EGKCJAAM0EWCAJgIM0ESAAZoIMEATAQZoIsAATQQYoIkAAzQRYIAmAgzQRIABmggwQBMBBmgiwABNBBigiQADNBFggCYCDNBEgAGaCDBAk4PdG4D9YnNzM0ePHu3eBhfhwQcfzB133JGnn376/61fSc6AAXZwYXyvBgGGJdjc3OzeApfg+b5TudLfwSzlEsSZM2dy7ty5HDt2bBmHuyhbW1u55qujexstrvnyU9na+tKu+vuA/ehFz4Cr6p1Vdbyqjj/xxBPL2BPAvvCiZ8BjjLuT3J0kt91222WdMq6srCRJ7rrrrsv59Kvi2LFjOfGvn+/eRouvX/fNWXv1Lbvq72Pu/PCNnbgGDNBEgGEJjhw50r0FLsHzPdzMw9AAluDGG2+86sfwRAxYkiNHjrjuvofcf//9V/0YzoABmggwQBMBBmgiwABNBBigiQADNBFggCYCDNBEgAGaCDBAEwEGaCLAAE0EGKCJAAM0EWCAJgIM0ESAAZoIMEATAQZoIsAATQQYoIkAAzQRYIAmAgzQRIABmggwQBMBBmgiwABNBBigiQADNBFggCYCDNBEgAGaCDBAEwEGaCLAAE0EGKCJAAM0ObiMg6ytrS3jMLBr+RpgJ0sJ8Pr6+jIOA7uWrwF24hIEQBMBBmgiwABNBBigiQADNBFggCYCDNBEgAGaCDBAEwEGaCLAAE0EGKCJAAM0EWCAJgIM0ESAAZoIMEATAQZoIsAATQQYoIkAAzQRYIAmAgzQRIABmggwQBMBBmgiwABNBBigiQADNBFggCYCDNBEgAGaCDBAEwEGaCLAAE0EGKCJAAM0EWCAJgIM0ESAAZoc7N5ApwPPPJnrT39gycf8jyRZ+nH/7x6eTHJL2/GBhX0b4LW1tZbjnjnztSTJykpnAG9pmx94zr4N8Pr6evcWgH3ONWCAJgIM0ESAAZoIMEATAQZoIsAATQQYoIkAAzQRYIAmAgzQRIABmggwQBMBBmgiwABNBBigiQADNBFggCYCDNBEgAGaCDBAkxpjXPydq55I8pmrt52lOZzkC92bWCLzzpt5d7/vGGPcfOHiJQV4Lqrq+Bjjtu59LIt55828e5dLEABNBBigyX4N8N3dG1gy886befeofXkNGGA32K9nwADtBBigySwDXFV/WFVnq+rktrVDVfVAVX16ev8t2/7s3VW1VVWfqqof6dn15auqV1bV31fVqar6ZFUdm9ZnOXNVXVdVD1XV5jTvr03rs5w3SarqQFV9oqrumz6e7axJUlWPVtU/VtXDVXV8WpvfzGOM2b0l+cEkb0hyctvabyZ513T7XUl+Y7r9XUk2k7wkyauS/EuSA90zXOK8r0jyhun2TUn+eZprljMnqSQvnW5fm+SjSb5/rvNOM/xKkj9Jct/08WxnneZ4NMnhC9ZmN/Msz4DHGB9K8uQFy29Ncs90+54kP7lt/d4xxlfGGP+WZCvJ9y1jn1fKGOPxMcbHp9tfSnIqyUpmOvNY+K/pw2unt5GZzltVtya5I8nvb1ue5awvYnYzzzLAz+OWMcbjySJYSV4+ra8k+ey2+31uWtuTqmo1yfdmcVY425mnb8kfTnI2yQNjjDnP+ztJfjXJ17etzXXW80aSv6mqE1X1zmltdjMf7N7ALlA7rO3Jx+ZV1UuT/EWSXx5jPFW102iLu+6wtqdmHmM8m+R7quplSd5fVd/9Anffs/NW1Y8nOTvGOFFVRy/mU3ZY2xOzXuCNY4zHqurlSR6oqtMvcN89O/N+OgP+fFW9Ikmm92en9c8leeW2+92a5LEl7+0bVlXXZhHfPx5j/OW0POuZk2SM8Z9JHkzyo5nnvG9M8hNV9WiSe5P8UFW9L/Oc9X+NMR6b3p9N8v4sLinMbub9FOC/TnLndPvOJH+1bf3tVfWSqnpVktckeahhf5etFqe6f5Dk1Bjjt7f90SxnrqqbpzPfVNX1Sd6c5HRmOO8Y491jjFvHGKtJ3p7k78YYP5sZznpeVd1YVTedv53kh5OczBxn7v4p4NV4S/KnSR5P8t9Z/Ov4c0m+NcnfJvn09P7Qtvu/J4ufnH4qyY917/8y5n1TFt9yPZLk4entLXOdOcnrk3ximvdkkvdO67Ocd9sMR/PcoyBmO2uSV2fxqIbNJJ9M8p65zuypyABN9tMlCIBdRYABmggwQBMBBmgiwABNBJg9r6p+vare3L0PuFQehsaeVlUHxuJpybDnOANm16qq1ao6XVX3VNUjVfXnVXXD9Fqx762qDyd5W1X9UVX91PQ5t1fVR6bXCn6oqm6aXrjnt6rqY9N/5xeaR4MkAszu97okd48xXp/kqSS/NK1/eYzxpjHGvefvWFXflOTPkhwbYxzJ4inK57J4JuQXxxi3J7k9yc9PT1mFVgLMbvfZMcY/TLffl8XTrpNFaC/0uiSPjzE+liRjjKfGGF/L4rUE3jG9fOVHs3hK62uu6q7hIng5Sna7C39Icf7jp3e4b+1w//Pr62OMD17JjcE3yhkwu923V9UPTLd/JsmHX+C+p5N8W1XdniTT9d+DST6Y5Benl+xMVb12epUtaCXA7HanktxZVY8kOZTkd5/vjmOMryb56SQbVbWZ5IEk12Xxq3z+KcnHa/GLWn8vvvtjF/AwNHat6dcr3TfGeKHfdgF7ljNggCbOgAGaOAMGaCLAAE0EGKCJAAM0EWCAJv8DRQ8q8KWY9ewAAAAASUVORK5CYII=\n",
      "text/plain": [
       "<Figure size 432x288 with 1 Axes>"
      ]
     },
     "metadata": {
      "needs_background": "light"
     },
     "output_type": "display_data"
    }
   ],
   "source": [
    "sns.boxplot(requests[\"price\"])"
   ]
  },
  {
   "cell_type": "code",
   "execution_count": 55,
   "id": "136a3b98",
   "metadata": {},
   "outputs": [],
   "source": [
    "#scale = StandardScaler()\n",
    "requests[\"price\"]= scale.fit_transform(requests[[\"price\"]].values)"
   ]
  },
  {
   "cell_type": "code",
   "execution_count": 66,
   "id": "5236dcb8",
   "metadata": {},
   "outputs": [],
   "source": [
    "requests[\"price\"]= scale(requests[[\"price\"]].values)"
   ]
  },
  {
   "cell_type": "code",
   "execution_count": 67,
>>>>>>> dd6c744ab074817c8bef8dc5058e47534b627369
   "id": "5898dc44",
   "metadata": {},
   "outputs": [],
   "source": [
    "price=requests[\"price\"]\n",
    "X_train,X_test,price_train,price_test=train_test_split(requests,price,test_size=0.25,random_state=11)\n",
    "X_train=X_train.drop(['price'], axis=1)\n",
    "X_test=X_test.drop(['price'], axis=1)"
   ]
  },
  {
   "cell_type": "code",
<<<<<<< HEAD
   "execution_count": 5,
=======
   "execution_count": 68,
   "id": "f09aa25e",
   "metadata": {},
   "outputs": [
    {
     "name": "stderr",
     "output_type": "stream",
     "text": [
      "C:\\Users\\tessw\\anaconda3\\lib\\site-packages\\seaborn\\_decorators.py:36: FutureWarning: Pass the following variable as a keyword arg: x. From version 0.12, the only valid positional argument will be `data`, and passing other arguments without an explicit keyword will result in an error or misinterpretation.\n",
      "  warnings.warn(\n"
     ]
    },
    {
     "data": {
      "text/plain": [
       "<AxesSubplot:xlabel='price'>"
      ]
     },
     "execution_count": 68,
     "metadata": {},
     "output_type": "execute_result"
    },
    {
     "data": {
      "image/png": "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\n",
      "text/plain": [
       "<Figure size 432x288 with 1 Axes>"
      ]
     },
     "metadata": {
      "needs_background": "light"
     },
     "output_type": "display_data"
    }
   ],
   "source": [
    "sns.boxplot(price)"
   ]
  },
  {
   "cell_type": "code",
   "execution_count": 69,
>>>>>>> dd6c744ab074817c8bef8dc5058e47534b627369
   "id": "bcc0cfd6",
   "metadata": {},
   "outputs": [
    {
     "data": {
      "text/html": [
       "<div>\n",
       "<style scoped>\n",
       "    .dataframe tbody tr th:only-of-type {\n",
       "        vertical-align: middle;\n",
       "    }\n",
       "\n",
       "    .dataframe tbody tr th {\n",
       "        vertical-align: top;\n",
       "    }\n",
       "\n",
       "    .dataframe thead th {\n",
       "        text-align: right;\n",
       "    }\n",
       "</style>\n",
       "<table border=\"1\" class=\"dataframe\">\n",
       "  <thead>\n",
       "    <tr style=\"text-align: right;\">\n",
       "      <th></th>\n",
       "      <th>parking</th>\n",
       "      <th>pool</th>\n",
       "      <th>children_policy</th>\n",
       "      <th>stock</th>\n",
       "      <th>date</th>\n",
       "      <th>mobile</th>\n",
       "      <th>group_Accar Hotels</th>\n",
       "      <th>group_Boss Western</th>\n",
       "      <th>group_Chillton Worldwide</th>\n",
       "      <th>group_Independant</th>\n",
       "      <th>...</th>\n",
       "      <th>language_italian</th>\n",
       "      <th>language_lithuanian</th>\n",
       "      <th>language_luxembourgish</th>\n",
       "      <th>language_maltese</th>\n",
       "      <th>language_polish</th>\n",
       "      <th>language_portuguese</th>\n",
       "      <th>language_romanian</th>\n",
       "      <th>language_slovakian</th>\n",
       "      <th>language_spanish</th>\n",
       "      <th>language_swedish</th>\n",
       "    </tr>\n",
       "  </thead>\n",
       "  <tbody>\n",
       "    <tr>\n",
       "      <th>83402</th>\n",
       "      <td>1</td>\n",
       "      <td>0</td>\n",
       "      <td>0</td>\n",
       "      <td>38</td>\n",
       "      <td>25</td>\n",
       "      <td>0</td>\n",
       "      <td>0</td>\n",
       "      <td>1</td>\n",
       "      <td>0</td>\n",
       "      <td>0</td>\n",
       "      <td>...</td>\n",
       "      <td>0</td>\n",
       "      <td>0</td>\n",
       "      <td>0</td>\n",
       "      <td>0</td>\n",
       "      <td>0</td>\n",
       "      <td>0</td>\n",
       "      <td>0</td>\n",
       "      <td>0</td>\n",
       "      <td>0</td>\n",
       "      <td>1</td>\n",
       "    </tr>\n",
       "    <tr>\n",
       "      <th>270260</th>\n",
       "      <td>1</td>\n",
       "      <td>0</td>\n",
       "      <td>0</td>\n",
       "      <td>0</td>\n",
       "      <td>3</td>\n",
       "      <td>0</td>\n",
       "      <td>0</td>\n",
       "      <td>0</td>\n",
       "      <td>0</td>\n",
       "      <td>1</td>\n",
       "      <td>...</td>\n",
       "      <td>0</td>\n",
       "      <td>0</td>\n",
       "      <td>0</td>\n",
       "      <td>0</td>\n",
       "      <td>0</td>\n",
       "      <td>0</td>\n",
       "      <td>0</td>\n",
       "      <td>0</td>\n",
       "      <td>0</td>\n",
       "      <td>0</td>\n",
       "    </tr>\n",
       "    <tr>\n",
       "      <th>181784</th>\n",
       "      <td>1</td>\n",
       "      <td>0</td>\n",
       "      <td>0</td>\n",
       "      <td>12</td>\n",
       "      <td>25</td>\n",
       "      <td>0</td>\n",
       "      <td>0</td>\n",
       "      <td>0</td>\n",
       "      <td>0</td>\n",
       "      <td>1</td>\n",
       "      <td>...</td>\n",
       "      <td>0</td>\n",
       "      <td>0</td>\n",
       "      <td>0</td>\n",
       "      <td>0</td>\n",
       "      <td>1</td>\n",
       "      <td>0</td>\n",
       "      <td>0</td>\n",
       "      <td>0</td>\n",
       "      <td>0</td>\n",
       "      <td>0</td>\n",
       "    </tr>\n",
       "    <tr>\n",
       "      <th>157289</th>\n",
       "      <td>0</td>\n",
       "      <td>0</td>\n",
       "      <td>0</td>\n",
       "      <td>10</td>\n",
       "      <td>10</td>\n",
       "      <td>1</td>\n",
       "      <td>0</td>\n",
       "      <td>1</td>\n",
       "      <td>0</td>\n",
       "      <td>0</td>\n",
       "      <td>...</td>\n",
       "      <td>0</td>\n",
       "      <td>0</td>\n",
       "      <td>0</td>\n",
       "      <td>0</td>\n",
       "      <td>0</td>\n",
       "      <td>0</td>\n",
       "      <td>0</td>\n",
       "      <td>0</td>\n",
       "      <td>0</td>\n",
       "      <td>0</td>\n",
       "    </tr>\n",
       "    <tr>\n",
       "      <th>244836</th>\n",
       "      <td>1</td>\n",
       "      <td>0</td>\n",
       "      <td>0</td>\n",
       "      <td>4</td>\n",
       "      <td>3</td>\n",
       "      <td>0</td>\n",
       "      <td>0</td>\n",
       "      <td>0</td>\n",
       "      <td>0</td>\n",
       "      <td>0</td>\n",
       "      <td>...</td>\n",
       "      <td>0</td>\n",
       "      <td>0</td>\n",
       "      <td>0</td>\n",
       "      <td>0</td>\n",
       "      <td>0</td>\n",
       "      <td>0</td>\n",
       "      <td>0</td>\n",
       "      <td>0</td>\n",
       "      <td>0</td>\n",
       "      <td>0</td>\n",
       "    </tr>\n",
       "  </tbody>\n",
       "</table>\n",
       "<p>5 rows × 62 columns</p>\n",
       "</div>"
      ],
      "text/plain": [
       "        parking  pool  children_policy  stock  date  mobile  \\\n",
       "83402         1     0                0     38    25       0   \n",
       "270260        1     0                0      0     3       0   \n",
       "181784        1     0                0     12    25       0   \n",
       "157289        0     0                0     10    10       1   \n",
       "244836        1     0                0      4     3       0   \n",
       "\n",
       "        group_Accar Hotels  group_Boss Western  group_Chillton Worldwide  \\\n",
       "83402                    0                   1                         0   \n",
       "270260                   0                   0                         0   \n",
       "181784                   0                   0                         0   \n",
       "157289                   0                   1                         0   \n",
       "244836                   0                   0                         0   \n",
       "\n",
       "        group_Independant  ...  language_italian  language_lithuanian  \\\n",
       "83402                   0  ...                 0                    0   \n",
       "270260                  1  ...                 0                    0   \n",
       "181784                  1  ...                 0                    0   \n",
       "157289                  0  ...                 0                    0   \n",
       "244836                  0  ...                 0                    0   \n",
       "\n",
       "        language_luxembourgish  language_maltese  language_polish  \\\n",
       "83402                        0                 0                0   \n",
       "270260                       0                 0                0   \n",
       "181784                       0                 0                1   \n",
       "157289                       0                 0                0   \n",
       "244836                       0                 0                0   \n",
       "\n",
       "        language_portuguese  language_romanian  language_slovakian  \\\n",
       "83402                     0                  0                   0   \n",
       "270260                    0                  0                   0   \n",
       "181784                    0                  0                   0   \n",
       "157289                    0                  0                   0   \n",
       "244836                    0                  0                   0   \n",
       "\n",
       "        language_spanish  language_swedish  \n",
       "83402                  0                 1  \n",
       "270260                 0                 0  \n",
       "181784                 0                 0  \n",
       "157289                 0                 0  \n",
       "244836                 0                 0  \n",
       "\n",
       "[5 rows x 62 columns]"
      ]
     },
<<<<<<< HEAD
     "execution_count": 5,
=======
     "execution_count": 69,
>>>>>>> dd6c744ab074817c8bef8dc5058e47534b627369
     "metadata": {},
     "output_type": "execute_result"
    }
   ],
   "source": [
    "X_train.head()\n",
    "#X_test.head()"
   ]
  },
  {
   "cell_type": "code",
<<<<<<< HEAD
   "execution_count": 6,
=======
   "execution_count": 70,
>>>>>>> dd6c744ab074817c8bef8dc5058e47534b627369
   "id": "5e0d6602",
   "metadata": {},
   "outputs": [
    {
     "data": {
      "text/plain": [
       "(227049, 62)"
      ]
     },
<<<<<<< HEAD
     "execution_count": 6,
=======
     "execution_count": 70,
>>>>>>> dd6c744ab074817c8bef8dc5058e47534b627369
     "metadata": {},
     "output_type": "execute_result"
    }
   ],
   "source": [
    "X_train.shape"
   ]
  },
  {
   "cell_type": "code",
<<<<<<< HEAD
   "execution_count": 7,
=======
   "execution_count": 71,
   "id": "97766a14",
   "metadata": {},
   "outputs": [],
   "source": [
    "#param=[{\"n_estimators\":list(range(10,50,10)),\"max_features\":list(range(2,10,1)) }]\n",
    "#n_features = np.shape(X_train)[1]\n",
    "#rf= GridSearchCV(RandomForestRegressor(),\n",
    "  #      param,cv=10,n_jobs=-1)\n",
    "#rfOpt=rf.fit(X_train, price_train)\n",
    "\n",
    "# paramètre optimal\n",
    "#print(\"Meilleur score = %f, Meilleur paramètre = %s\" % (1. - rfOpt.best_score_,rfOpt.best_params_))"
   ]
  },
  {
   "cell_type": "code",
   "execution_count": 72,
>>>>>>> dd6c744ab074817c8bef8dc5058e47534b627369
   "id": "e080cbfb",
   "metadata": {},
   "outputs": [
    {
     "data": {
      "text/html": [
       "<div>\n",
       "<style scoped>\n",
       "    .dataframe tbody tr th:only-of-type {\n",
       "        vertical-align: middle;\n",
       "    }\n",
       "\n",
       "    .dataframe tbody tr th {\n",
       "        vertical-align: top;\n",
       "    }\n",
       "\n",
       "    .dataframe thead th {\n",
       "        text-align: right;\n",
       "    }\n",
       "</style>\n",
       "<table border=\"1\" class=\"dataframe\">\n",
       "  <thead>\n",
       "    <tr style=\"text-align: right;\">\n",
       "      <th></th>\n",
       "      <th>Feature</th>\n",
       "      <th>Importance</th>\n",
       "    </tr>\n",
       "  </thead>\n",
       "  <tbody>\n",
       "    <tr>\n",
<<<<<<< HEAD
       "      <th>35</th>\n",
       "      <td>brand_Safitel</td>\n",
       "      <td>0.130854</td>\n",
       "    </tr>\n",
       "    <tr>\n",
       "      <th>1</th>\n",
       "      <td>pool</td>\n",
       "      <td>0.106060</td>\n",
=======
       "      <th>1</th>\n",
       "      <td>pool</td>\n",
       "      <td>0.108986</td>\n",
       "    </tr>\n",
       "    <tr>\n",
       "      <th>35</th>\n",
       "      <td>brand_Safitel</td>\n",
       "      <td>0.104656</td>\n",
>>>>>>> dd6c744ab074817c8bef8dc5058e47534b627369
       "    </tr>\n",
       "    <tr>\n",
       "      <th>3</th>\n",
       "      <td>stock</td>\n",
<<<<<<< HEAD
       "      <td>0.084184</td>\n",
       "    </tr>\n",
       "    <tr>\n",
       "      <th>25</th>\n",
       "      <td>brand_Corlton</td>\n",
       "      <td>0.079468</td>\n",
=======
       "      <td>0.090306</td>\n",
>>>>>>> dd6c744ab074817c8bef8dc5058e47534b627369
       "    </tr>\n",
       "    <tr>\n",
       "      <th>28</th>\n",
       "      <td>brand_Independant</td>\n",
<<<<<<< HEAD
       "      <td>0.068213</td>\n",
=======
       "      <td>0.077252</td>\n",
       "    </tr>\n",
       "    <tr>\n",
       "      <th>25</th>\n",
       "      <td>brand_Corlton</td>\n",
       "      <td>0.072042</td>\n",
>>>>>>> dd6c744ab074817c8bef8dc5058e47534b627369
       "    </tr>\n",
       "    <tr>\n",
       "      <th>...</th>\n",
       "      <td>...</td>\n",
       "      <td>...</td>\n",
       "    </tr>\n",
       "    <tr>\n",
<<<<<<< HEAD
       "      <th>51</th>\n",
       "      <td>language_irish</td>\n",
       "      <td>0.000166</td>\n",
=======
       "      <th>49</th>\n",
       "      <td>language_greek</td>\n",
       "      <td>0.000171</td>\n",
       "    </tr>\n",
       "    <tr>\n",
       "      <th>48</th>\n",
       "      <td>language_german</td>\n",
       "      <td>0.000169</td>\n",
>>>>>>> dd6c744ab074817c8bef8dc5058e47534b627369
       "    </tr>\n",
       "    <tr>\n",
       "      <th>56</th>\n",
       "      <td>language_polish</td>\n",
<<<<<<< HEAD
       "      <td>0.000165</td>\n",
       "    </tr>\n",
       "    <tr>\n",
       "      <th>52</th>\n",
       "      <td>language_italian</td>\n",
       "      <td>0.000164</td>\n",
       "    </tr>\n",
       "    <tr>\n",
       "      <th>48</th>\n",
       "      <td>language_german</td>\n",
       "      <td>0.000163</td>\n",
=======
       "      <td>0.000169</td>\n",
       "    </tr>\n",
       "    <tr>\n",
       "      <th>51</th>\n",
       "      <td>language_irish</td>\n",
       "      <td>0.000168</td>\n",
>>>>>>> dd6c744ab074817c8bef8dc5058e47534b627369
       "    </tr>\n",
       "    <tr>\n",
       "      <th>55</th>\n",
       "      <td>language_maltese</td>\n",
       "      <td>0.000160</td>\n",
       "    </tr>\n",
       "  </tbody>\n",
       "</table>\n",
       "<p>62 rows × 2 columns</p>\n",
       "</div>"
      ],
      "text/plain": [
       "              Feature  Importance\n",
<<<<<<< HEAD
       "35      brand_Safitel    0.130854\n",
       "1                pool    0.106060\n",
       "3               stock    0.084184\n",
       "25      brand_Corlton    0.079468\n",
       "28  brand_Independant    0.068213\n",
       "..                ...         ...\n",
       "51     language_irish    0.000166\n",
       "56    language_polish    0.000165\n",
       "52   language_italian    0.000164\n",
       "48    language_german    0.000163\n",
       "55   language_maltese    0.000160\n",
=======
       "1                pool    0.108986\n",
       "35      brand_Safitel    0.104656\n",
       "3               stock    0.090306\n",
       "28  brand_Independant    0.077252\n",
       "25      brand_Corlton    0.072042\n",
       "..                ...         ...\n",
       "49     language_greek    0.000171\n",
       "48    language_german    0.000169\n",
       "56    language_polish    0.000169\n",
       "51     language_irish    0.000168\n",
       "55   language_maltese    0.000161\n",
>>>>>>> dd6c744ab074817c8bef8dc5058e47534b627369
       "\n",
       "[62 rows x 2 columns]"
      ]
     },
<<<<<<< HEAD
     "execution_count": 7,
=======
     "execution_count": 72,
>>>>>>> dd6c744ab074817c8bef8dc5058e47534b627369
     "metadata": {},
     "output_type": "execute_result"
    }
   ],
   "source": [
    "rf= RandomForestRegressor(n_estimators=80,max_features=9) #given by the optimisation\n",
    "rfFit=rf.fit(X_train, price_train)\n",
    "# Importance décroissante des variables\n",
    "feature_importance_df = pd.DataFrame({\n",
    "    'Feature' : X_train.columns,\n",
    "    'Importance' : rfFit.feature_importances_\n",
    "}).sort_values(by='Importance', ascending=False)\n",
    "feature_importance_df"
   ]
  },
  {
   "cell_type": "code",
<<<<<<< HEAD
   "execution_count": 8,
   "id": "8e56d599",
   "metadata": {},
   "outputs": [
    {
     "name": "stdout",
     "output_type": "stream",
     "text": [
      "Meilleur score = 0.028963, Meilleur paramètre = {'max_features': 9, 'n_estimators': 40}\n"
     ]
    }
   ],
   "source": [
    "param=[{\"n_estimators\":list(range(10,50,10)),\"max_features\":list(range(2,10,1)) }]\n",
    "n_features = np.shape(X_train)[1]\n",
    "rf= GridSearchCV(RandomForestRegressor(),\n",
    "        param,cv=10,n_jobs=-1)\n",
    "rfOpt=rf.fit(X_train, price_train)\n",
    "\n",
    "# paramètre optimal\n",
    "print(\"Meilleur score = %f, Meilleur paramètre = %s\" % (1. - rfOpt.best_score_,rfOpt.best_params_))"
   ]
  },
  {
   "cell_type": "code",
   "execution_count": 9,
=======
   "execution_count": 73,
>>>>>>> dd6c744ab074817c8bef8dc5058e47534b627369
   "id": "b5dd504c",
   "metadata": {},
   "outputs": [],
   "source": [
    "#max features = 9 qd la liste va jusqu'à 10  et n estimators = 80"
   ]
  },
  {
   "cell_type": "code",
<<<<<<< HEAD
   "execution_count": null,
   "id": "3c7c2714",
   "metadata": {},
   "outputs": [],
   "source": [
    "rf= RandomForestRegressor(n_estimators = 90, max_features = 9)\n",
    "rfOpt=rf.fit(X_train, price_train)\n",
    "\n",
    "# paramètre optimal\n",
    "print(\"Meilleur score = %f, Meilleur paramètre = %s\" % (1. - rfOpt.best_score_,rfOpt.best_params_))"
   ]
  },
  {
   "cell_type": "code",
   "execution_count": 10,
=======
   "execution_count": 74,
>>>>>>> dd6c744ab074817c8bef8dc5058e47534b627369
   "id": "7dbf723e",
   "metadata": {},
   "outputs": [
    {
     "data": {
      "text/plain": [
       "<AxesSubplot:title={'center':'Feature Importance'}, xlabel='Importance', ylabel='Feature'>"
      ]
     },
<<<<<<< HEAD
     "execution_count": 10,
=======
     "execution_count": 74,
>>>>>>> dd6c744ab074817c8bef8dc5058e47534b627369
     "metadata": {},
     "output_type": "execute_result"
    },
    {
     "data": {
<<<<<<< HEAD
      "image/png": "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",
=======
      "image/png": "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\n",
>>>>>>> dd6c744ab074817c8bef8dc5058e47534b627369
      "text/plain": [
       "<Figure size 432x288 with 1 Axes>"
      ]
     },
     "metadata": {
      "needs_background": "light"
     },
     "output_type": "display_data"
    }
   ],
   "source": [
    "plt.title('Feature Importance')\n",
    "sns.barplot(data = feature_importance_df.head(20), x='Importance', y='Feature')"
   ]
  },
  {
   "cell_type": "code",
<<<<<<< HEAD
   "execution_count": null,
=======
   "execution_count": 75,
>>>>>>> dd6c744ab074817c8bef8dc5058e47534b627369
   "id": "936f946d",
   "metadata": {},
   "outputs": [
    {
     "name": "stdout",
     "output_type": "stream",
     "text": [
      "MSE= 0.027648842872597654\n",
      "R2= 0.9724412880087167\n"
     ]
    }
   ],
   "source": [
    "#Calcul de la valeur absolue des erreurs\n",
    "predictions = rf.predict(X_test)\n",
    "print(\"MSE=\",mean_squared_error(predictions,price_test))\n",
    "print(\"R2=\",r2_score(price_test,predictions))"
   ]
  },
  {
   "cell_type": "code",
<<<<<<< HEAD
   "execution_count": null,
=======
   "execution_count": 13,
>>>>>>> dd6c744ab074817c8bef8dc5058e47534b627369
   "id": "4a3ddabe",
   "metadata": {},
   "outputs": [
    {
     "data": {
      "text/plain": [
       "<matplotlib.legend.Legend at 0x1f61f23d970>"
      ]
     },
     "execution_count": 13,
     "metadata": {},
     "output_type": "execute_result"
    },
    {
     "name": "stderr",
     "output_type": "stream",
     "text": [
      "C:\\Users\\tessw\\anaconda3\\lib\\site-packages\\IPython\\core\\events.py:89: UserWarning: Creating legend with loc=\"best\" can be slow with large amounts of data.\n",
      "  func(*args, **kwargs)\n"
     ]
    },
    {
     "data": {
<<<<<<< HEAD
      "image/png": "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",
=======
      "image/png": "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\n",
>>>>>>> dd6c744ab074817c8bef8dc5058e47534b627369
      "text/plain": [
       "<Figure size 432x288 with 1 Axes>"
      ]
     },
     "metadata": {
      "needs_background": "light"
     },
     "output_type": "display_data"
    }
   ],
   "source": [
    "x = np.linspace(1,np.shape(price_test)[0],np.shape(price_test)[0])\n",
    "plt.scatter(x,price_test,label='actual')\n",
    "plt.scatter(x,predictions,s=10,c='red',label='predictions')\n",
    "plt.legend()"
   ]
  },
  {
   "cell_type": "markdown",
   "id": "aad18c73",
   "metadata": {},
   "source": [
    "# Ice Plot"
   ]
  },
  {
   "cell_type": "code",
   "execution_count": 24,
   "id": "04413a76",
   "metadata": {},
   "outputs": [],
   "source": [
    "from sklearn.pipeline import make_pipeline\n",
    "from sklearn.neural_network import MLPRegressor\n",
    "from sklearn.inspection import PartialDependenceDisplay"
   ]
  },
  {
   "cell_type": "code",
   "execution_count": 25,
   "id": "716d1f71",
   "metadata": {},
   "outputs": [
    {
     "ename": "ModuleNotFoundError",
     "evalue": "No module named 'pdpbox'",
     "output_type": "error",
     "traceback": [
      "\u001b[1;31m---------------------------------------------------------------------------\u001b[0m",
      "\u001b[1;31mModuleNotFoundError\u001b[0m                       Traceback (most recent call last)",
      "Input \u001b[1;32mIn [25]\u001b[0m, in \u001b[0;36m<cell line: 1>\u001b[1;34m()\u001b[0m\n\u001b[1;32m----> 1\u001b[0m \u001b[38;5;28;01mfrom\u001b[39;00m \u001b[38;5;21;01mpdpbox\u001b[39;00m \u001b[38;5;28;01mimport\u001b[39;00m pdp, get_dataset, info_plots\n\u001b[0;32m      2\u001b[0m model \u001b[38;5;241m=\u001b[39m rf \u001b[38;5;66;03m#lr, mlp\u001b[39;00m\n\u001b[0;32m      3\u001b[0m model_name \u001b[38;5;241m=\u001b[39m \u001b[38;5;124m'\u001b[39m\u001b[38;5;124mrandom forest\u001b[39m\u001b[38;5;124m'\u001b[39m\n",
      "\u001b[1;31mModuleNotFoundError\u001b[0m: No module named 'pdpbox'"
     ]
    }
   ],
   "source": [
    "from pdpbox import pdp, get_dataset, info_plots\n",
    "model = rf #lr, mlp\n",
    "model_name = 'random forest'\n",
    "\n",
    "features_importance_dict = {}\n",
    "features_importance_dict[model_name] = feature_importance_df #add the dataframe to your dictionnary\n",
    "\n",
    "top_5_features = features_importance_dict[model_name].Feature[:5].values\n",
    "\n",
    "for i, feature in enumerate(top_5_features, 1):\n",
    "  #print(feature)\n",
    "  pdp_feat = pdp.pdp_isolate(model=model, dataset=X_test, model_features=features_importance_dict[model_name].Feature.values, feature=feature)\n",
    "  pdp.pdp_plot(pdp_feat, feature, plot_lines=True, frac_to_plot=0.5)\n",
    "#plt.show()"
   ]
  },
  {
   "cell_type": "code",
   "execution_count": null,
   "id": "6086bce4",
   "metadata": {},
   "outputs": [],
   "source": [
    "features_to_plot = ['pool', 'brand']\n",
    "inter1 = pdp.pdp_interact(model=model, dataset=X_test, model_features=features_importance_dict[model_name].Feature, features=features_to_plot)\n",
    "\n",
    "pdp.pdp_interact_plot(pdp_interact_out=inter1, feature_names=features_to_plot, plot_type='contour')\n",
    "plt.show()"
   ]
  },
  {
   "cell_type": "markdown",
   "id": "ad41ceec",
   "metadata": {},
   "source": [
    "## Prédictions sur le test set"
   ]
  },
  {
   "cell_type": "code",
<<<<<<< HEAD
   "execution_count": 12,
   "id": "0e2bd5ba",
   "metadata": {},
   "outputs": [
    {
     "data": {
      "text/html": [
       "<div>\n",
       "<style scoped>\n",
       "    .dataframe tbody tr th:only-of-type {\n",
       "        vertical-align: middle;\n",
       "    }\n",
       "\n",
       "    .dataframe tbody tr th {\n",
       "        vertical-align: top;\n",
       "    }\n",
       "\n",
       "    .dataframe thead th {\n",
       "        text-align: right;\n",
       "    }\n",
       "</style>\n",
       "<table border=\"1\" class=\"dataframe\">\n",
       "  <thead>\n",
       "    <tr style=\"text-align: right;\">\n",
       "      <th></th>\n",
       "      <th>group</th>\n",
       "      <th>brand</th>\n",
       "      <th>city</th>\n",
       "      <th>parking</th>\n",
       "      <th>pool</th>\n",
       "      <th>children_policy</th>\n",
       "      <th>stock</th>\n",
       "      <th>date</th>\n",
       "      <th>language</th>\n",
       "      <th>mobile</th>\n",
       "    </tr>\n",
       "  </thead>\n",
       "  <tbody>\n",
       "    <tr>\n",
       "      <th>0</th>\n",
       "      <td>Boss Western</td>\n",
       "      <td>J.Halliday Inn</td>\n",
       "      <td>vilnius</td>\n",
       "      <td>1</td>\n",
       "      <td>0</td>\n",
       "      <td>0</td>\n",
       "      <td>46</td>\n",
       "      <td>21</td>\n",
       "      <td>romanian</td>\n",
       "      <td>0</td>\n",
       "    </tr>\n",
       "    <tr>\n",
       "      <th>1</th>\n",
       "      <td>Accar Hotels</td>\n",
       "      <td>Marcure</td>\n",
       "      <td>vilnius</td>\n",
       "      <td>1</td>\n",
       "      <td>1</td>\n",
       "      <td>0</td>\n",
       "      <td>32</td>\n",
       "      <td>21</td>\n",
       "      <td>romanian</td>\n",
       "      <td>0</td>\n",
       "    </tr>\n",
       "    <tr>\n",
       "      <th>2</th>\n",
       "      <td>Independant</td>\n",
       "      <td>Independant</td>\n",
       "      <td>vilnius</td>\n",
       "      <td>1</td>\n",
       "      <td>0</td>\n",
       "      <td>0</td>\n",
       "      <td>12</td>\n",
       "      <td>21</td>\n",
       "      <td>romanian</td>\n",
       "      <td>0</td>\n",
       "    </tr>\n",
       "    <tr>\n",
       "      <th>3</th>\n",
       "      <td>Accar Hotels</td>\n",
       "      <td>Ibas</td>\n",
       "      <td>vilnius</td>\n",
       "      <td>0</td>\n",
       "      <td>0</td>\n",
       "      <td>0</td>\n",
       "      <td>10</td>\n",
       "      <td>21</td>\n",
       "      <td>romanian</td>\n",
       "      <td>0</td>\n",
       "    </tr>\n",
       "    <tr>\n",
       "      <th>4</th>\n",
       "      <td>Accar Hotels</td>\n",
       "      <td>Safitel</td>\n",
       "      <td>vilnius</td>\n",
       "      <td>1</td>\n",
       "      <td>1</td>\n",
       "      <td>1</td>\n",
       "      <td>42</td>\n",
       "      <td>21</td>\n",
       "      <td>romanian</td>\n",
       "      <td>0</td>\n",
       "    </tr>\n",
       "    <tr>\n",
       "      <th>...</th>\n",
       "      <td>...</td>\n",
       "      <td>...</td>\n",
       "      <td>...</td>\n",
       "      <td>...</td>\n",
       "      <td>...</td>\n",
       "      <td>...</td>\n",
       "      <td>...</td>\n",
       "      <td>...</td>\n",
       "      <td>...</td>\n",
       "      <td>...</td>\n",
       "    </tr>\n",
       "    <tr>\n",
       "      <th>6639</th>\n",
       "      <td>Accar Hotels</td>\n",
       "      <td>Ibas</td>\n",
       "      <td>rome</td>\n",
       "      <td>1</td>\n",
       "      <td>0</td>\n",
       "      <td>0</td>\n",
       "      <td>1</td>\n",
       "      <td>5</td>\n",
       "      <td>irish</td>\n",
       "      <td>0</td>\n",
       "    </tr>\n",
       "    <tr>\n",
       "      <th>6640</th>\n",
       "      <td>Accar Hotels</td>\n",
       "      <td>Marcure</td>\n",
       "      <td>vienna</td>\n",
       "      <td>1</td>\n",
       "      <td>0</td>\n",
       "      <td>0</td>\n",
       "      <td>1</td>\n",
       "      <td>1</td>\n",
       "      <td>irish</td>\n",
       "      <td>1</td>\n",
       "    </tr>\n",
       "    <tr>\n",
       "      <th>6641</th>\n",
       "      <td>Boss Western</td>\n",
       "      <td>Boss Western</td>\n",
       "      <td>vienna</td>\n",
       "      <td>1</td>\n",
       "      <td>0</td>\n",
       "      <td>0</td>\n",
       "      <td>0</td>\n",
       "      <td>1</td>\n",
       "      <td>irish</td>\n",
       "      <td>1</td>\n",
       "    </tr>\n",
       "    <tr>\n",
       "      <th>6642</th>\n",
       "      <td>Yin Yang</td>\n",
       "      <td>Ardisson</td>\n",
       "      <td>vienna</td>\n",
       "      <td>1</td>\n",
       "      <td>0</td>\n",
       "      <td>0</td>\n",
       "      <td>0</td>\n",
       "      <td>1</td>\n",
       "      <td>irish</td>\n",
       "      <td>1</td>\n",
       "    </tr>\n",
       "    <tr>\n",
       "      <th>6643</th>\n",
       "      <td>Boss Western</td>\n",
       "      <td>Boss Western</td>\n",
       "      <td>vienna</td>\n",
       "      <td>1</td>\n",
       "      <td>0</td>\n",
       "      <td>0</td>\n",
       "      <td>0</td>\n",
       "      <td>1</td>\n",
       "      <td>irish</td>\n",
       "      <td>1</td>\n",
       "    </tr>\n",
       "  </tbody>\n",
       "</table>\n",
       "<p>6644 rows × 10 columns</p>\n",
       "</div>"
      ],
      "text/plain": [
       "             group           brand     city  parking  pool  children_policy  \\\n",
       "0     Boss Western  J.Halliday Inn  vilnius        1     0                0   \n",
       "1     Accar Hotels         Marcure  vilnius        1     1                0   \n",
       "2      Independant     Independant  vilnius        1     0                0   \n",
       "3     Accar Hotels            Ibas  vilnius        0     0                0   \n",
       "4     Accar Hotels         Safitel  vilnius        1     1                1   \n",
       "...            ...             ...      ...      ...   ...              ...   \n",
       "6639  Accar Hotels            Ibas     rome        1     0                0   \n",
       "6640  Accar Hotels         Marcure   vienna        1     0                0   \n",
       "6641  Boss Western    Boss Western   vienna        1     0                0   \n",
       "6642      Yin Yang        Ardisson   vienna        1     0                0   \n",
       "6643  Boss Western    Boss Western   vienna        1     0                0   \n",
       "\n",
       "      stock  date  language  mobile  \n",
       "0        46    21  romanian       0  \n",
       "1        32    21  romanian       0  \n",
       "2        12    21  romanian       0  \n",
       "3        10    21  romanian       0  \n",
       "4        42    21  romanian       0  \n",
       "...     ...   ...       ...     ...  \n",
       "6639      1     5     irish       0  \n",
       "6640      1     1     irish       1  \n",
       "6641      0     1     irish       1  \n",
       "6642      0     1     irish       1  \n",
       "6643      0     1     irish       1  \n",
       "\n",
       "[6644 rows x 10 columns]"
      ]
     },
     "execution_count": 12,
     "metadata": {},
     "output_type": "execute_result"
    }
   ],
   "source": [
    "test_set = pd.read_csv('test_set.csv')\n",
    "test = test_set.drop(['order_requests'],axis=1)\n",
    "bis = test\n",
    "\n",
    "test = test.drop(['index'],axis=1)\n",
    "test.head()\n",
    "features = pd.read_csv(\"features/features_hotels.csv\",sep=\",\",header=0)\n",
    "features_test = features.loc[features[\"hotel_id\"].loc[test['hotel_id']]]\n",
    "features_test = features_test.reset_index()\n",
    "df = pd.concat([features_test,test[['stock','date','language',\"mobile\"]]],axis=1)\n",
    "df = df.drop(['hotel_id'],axis=1)\n",
    "df = df.drop(['index'],axis=1)\n",
    "df"
   ]
  },
  {
   "cell_type": "code",
   "execution_count": 14,
   "id": "a607e39d",
   "metadata": {},
   "outputs": [
    {
     "data": {
      "text/html": [
       "<div>\n",
       "<style scoped>\n",
       "    .dataframe tbody tr th:only-of-type {\n",
       "        vertical-align: middle;\n",
       "    }\n",
       "\n",
       "    .dataframe tbody tr th {\n",
       "        vertical-align: top;\n",
       "    }\n",
       "\n",
       "    .dataframe thead th {\n",
       "        text-align: right;\n",
       "    }\n",
       "</style>\n",
       "<table border=\"1\" class=\"dataframe\">\n",
       "  <thead>\n",
       "    <tr style=\"text-align: right;\">\n",
       "      <th></th>\n",
       "      <th>parking</th>\n",
       "      <th>pool</th>\n",
       "      <th>children_policy</th>\n",
       "      <th>stock</th>\n",
       "      <th>date</th>\n",
       "      <th>mobile</th>\n",
       "      <th>group_Accar Hotels</th>\n",
       "      <th>group_Boss Western</th>\n",
       "      <th>group_Chillton Worldwide</th>\n",
       "      <th>group_Independant</th>\n",
       "      <th>...</th>\n",
       "      <th>language_lithuanian</th>\n",
       "      <th>language_luxembourgish</th>\n",
       "      <th>language_maltese</th>\n",
       "      <th>language_polish</th>\n",
       "      <th>language_portuguese</th>\n",
       "      <th>language_romanian</th>\n",
       "      <th>language_slovakian</th>\n",
       "      <th>language_slovene</th>\n",
       "      <th>language_spanish</th>\n",
       "      <th>language_swedish</th>\n",
       "    </tr>\n",
       "  </thead>\n",
       "  <tbody>\n",
       "    <tr>\n",
       "      <th>0</th>\n",
       "      <td>1</td>\n",
       "      <td>0</td>\n",
       "      <td>0</td>\n",
       "      <td>46</td>\n",
       "      <td>21</td>\n",
       "      <td>0</td>\n",
       "      <td>0</td>\n",
       "      <td>1</td>\n",
       "      <td>0</td>\n",
       "      <td>0</td>\n",
       "      <td>...</td>\n",
       "      <td>0</td>\n",
       "      <td>0</td>\n",
       "      <td>0</td>\n",
       "      <td>0</td>\n",
       "      <td>0</td>\n",
       "      <td>1</td>\n",
       "      <td>0</td>\n",
       "      <td>0</td>\n",
       "      <td>0</td>\n",
       "      <td>0</td>\n",
       "    </tr>\n",
       "    <tr>\n",
       "      <th>1</th>\n",
       "      <td>1</td>\n",
       "      <td>1</td>\n",
       "      <td>0</td>\n",
       "      <td>32</td>\n",
       "      <td>21</td>\n",
       "      <td>0</td>\n",
       "      <td>1</td>\n",
       "      <td>0</td>\n",
       "      <td>0</td>\n",
       "      <td>0</td>\n",
       "      <td>...</td>\n",
       "      <td>0</td>\n",
       "      <td>0</td>\n",
       "      <td>0</td>\n",
       "      <td>0</td>\n",
       "      <td>0</td>\n",
       "      <td>1</td>\n",
       "      <td>0</td>\n",
       "      <td>0</td>\n",
       "      <td>0</td>\n",
       "      <td>0</td>\n",
       "    </tr>\n",
       "    <tr>\n",
       "      <th>2</th>\n",
       "      <td>1</td>\n",
       "      <td>0</td>\n",
       "      <td>0</td>\n",
       "      <td>12</td>\n",
       "      <td>21</td>\n",
       "      <td>0</td>\n",
       "      <td>0</td>\n",
       "      <td>0</td>\n",
       "      <td>0</td>\n",
       "      <td>1</td>\n",
       "      <td>...</td>\n",
       "      <td>0</td>\n",
       "      <td>0</td>\n",
       "      <td>0</td>\n",
       "      <td>0</td>\n",
       "      <td>0</td>\n",
       "      <td>1</td>\n",
       "      <td>0</td>\n",
       "      <td>0</td>\n",
       "      <td>0</td>\n",
       "      <td>0</td>\n",
       "    </tr>\n",
       "    <tr>\n",
       "      <th>3</th>\n",
       "      <td>0</td>\n",
       "      <td>0</td>\n",
       "      <td>0</td>\n",
       "      <td>10</td>\n",
       "      <td>21</td>\n",
       "      <td>0</td>\n",
       "      <td>1</td>\n",
       "      <td>0</td>\n",
       "      <td>0</td>\n",
       "      <td>0</td>\n",
       "      <td>...</td>\n",
       "      <td>0</td>\n",
       "      <td>0</td>\n",
       "      <td>0</td>\n",
       "      <td>0</td>\n",
       "      <td>0</td>\n",
       "      <td>1</td>\n",
       "      <td>0</td>\n",
       "      <td>0</td>\n",
       "      <td>0</td>\n",
       "      <td>0</td>\n",
       "    </tr>\n",
       "    <tr>\n",
       "      <th>4</th>\n",
       "      <td>1</td>\n",
       "      <td>1</td>\n",
       "      <td>1</td>\n",
       "      <td>42</td>\n",
       "      <td>21</td>\n",
       "      <td>0</td>\n",
       "      <td>1</td>\n",
       "      <td>0</td>\n",
       "      <td>0</td>\n",
       "      <td>0</td>\n",
       "      <td>...</td>\n",
       "      <td>0</td>\n",
       "      <td>0</td>\n",
       "      <td>0</td>\n",
       "      <td>0</td>\n",
       "      <td>0</td>\n",
       "      <td>1</td>\n",
       "      <td>0</td>\n",
       "      <td>0</td>\n",
       "      <td>0</td>\n",
       "      <td>0</td>\n",
       "    </tr>\n",
       "  </tbody>\n",
       "</table>\n",
       "<p>5 rows × 64 columns</p>\n",
       "</div>"
      ],
      "text/plain": [
       "   parking  pool  children_policy  stock  date  mobile  group_Accar Hotels  \\\n",
       "0        1     0                0     46    21       0                   0   \n",
       "1        1     1                0     32    21       0                   1   \n",
       "2        1     0                0     12    21       0                   0   \n",
       "3        0     0                0     10    21       0                   1   \n",
       "4        1     1                1     42    21       0                   1   \n",
       "\n",
       "   group_Boss Western  group_Chillton Worldwide  group_Independant  ...  \\\n",
       "0                   1                         0                  0  ...   \n",
       "1                   0                         0                  0  ...   \n",
       "2                   0                         0                  1  ...   \n",
       "3                   0                         0                  0  ...   \n",
       "4                   0                         0                  0  ...   \n",
       "\n",
       "   language_lithuanian  language_luxembourgish  language_maltese  \\\n",
       "0                    0                       0                 0   \n",
       "1                    0                       0                 0   \n",
       "2                    0                       0                 0   \n",
       "3                    0                       0                 0   \n",
       "4                    0                       0                 0   \n",
       "\n",
       "   language_polish  language_portuguese  language_romanian  \\\n",
       "0                0                    0                  1   \n",
       "1                0                    0                  1   \n",
       "2                0                    0                  1   \n",
       "3                0                    0                  1   \n",
       "4                0                    0                  1   \n",
       "\n",
       "   language_slovakian  language_slovene  language_spanish  language_swedish  \n",
       "0                   0                 0                 0                 0  \n",
       "1                   0                 0                 0                 0  \n",
       "2                   0                 0                 0                 0  \n",
       "3                   0                 0                 0                 0  \n",
       "4                   0                 0                 0                 0  \n",
       "\n",
       "[5 rows x 64 columns]"
      ]
     },
     "execution_count": 14,
     "metadata": {},
     "output_type": "execute_result"
    }
   ],
   "source": [
    "df = pd.get_dummies(df, columns = ['group', 'city', 'brand', 'language'])\n",
    "df.head()"
   ]
  },
  {
   "cell_type": "code",
   "execution_count": 16,
   "id": "4ab1c7be",
   "metadata": {},
   "outputs": [],
   "source": [
    "df = df.drop(columns = ['language_slovene', 'language_latvian' ])"
   ]
  },
  {
   "cell_type": "code",
   "execution_count": 20,
   "id": "525829b7",
   "metadata": {},
   "outputs": [],
   "source": [
    "predictions = rfOpt.predict(df)"
   ]
  },
  {
   "cell_type": "code",
   "execution_count": 21,
   "id": "bd9fa5c7",
   "metadata": {},
   "outputs": [],
   "source": [
    "submission = pd.DataFrame()\n",
    "submission['index'] = bis['index']\n",
    "submission['price'] = predictions\n",
    "submission = submission.reset_index()\n",
    "submission = submission.drop(['level_0'],axis=1)"
   ]
  },
  {
   "cell_type": "code",
   "execution_count": 22,
   "id": "cbd50a91",
   "metadata": {},
   "outputs": [],
   "source": [
    "submission.to_csv('submission3.csv', index = False)"
   ]
  },
  {
   "cell_type": "code",
   "execution_count": 11,
=======
   "execution_count": 14,
>>>>>>> dd6c744ab074817c8bef8dc5058e47534b627369
   "id": "eef003b6",
   "metadata": {},
   "outputs": [
    {
     "data": {
      "text/html": [
       "<div>\n",
       "<style scoped>\n",
       "    .dataframe tbody tr th:only-of-type {\n",
       "        vertical-align: middle;\n",
       "    }\n",
       "\n",
       "    .dataframe tbody tr th {\n",
       "        vertical-align: top;\n",
       "    }\n",
       "\n",
       "    .dataframe thead th {\n",
       "        text-align: right;\n",
       "    }\n",
       "</style>\n",
       "<table border=\"1\" class=\"dataframe\">\n",
       "  <thead>\n",
       "    <tr style=\"text-align: right;\">\n",
       "      <th></th>\n",
       "      <th>city</th>\n",
       "      <th>date</th>\n",
       "      <th>language</th>\n",
       "      <th>mobile</th>\n",
       "      <th>avatar_id</th>\n",
       "      <th>hotel_id</th>\n",
       "      <th>stock</th>\n",
       "    </tr>\n",
       "  </thead>\n",
       "  <tbody>\n",
       "    <tr>\n",
       "      <th>0</th>\n",
       "      <td>vilnius</td>\n",
       "      <td>21</td>\n",
       "      <td>romanian</td>\n",
       "      <td>0</td>\n",
       "      <td>1</td>\n",
       "      <td>161</td>\n",
       "      <td>46</td>\n",
       "    </tr>\n",
       "    <tr>\n",
       "      <th>1</th>\n",
       "      <td>vilnius</td>\n",
       "      <td>21</td>\n",
       "      <td>romanian</td>\n",
       "      <td>0</td>\n",
       "      <td>1</td>\n",
       "      <td>187</td>\n",
       "      <td>32</td>\n",
       "    </tr>\n",
       "    <tr>\n",
       "      <th>2</th>\n",
       "      <td>vilnius</td>\n",
       "      <td>21</td>\n",
       "      <td>romanian</td>\n",
       "      <td>0</td>\n",
       "      <td>1</td>\n",
       "      <td>279</td>\n",
       "      <td>12</td>\n",
       "    </tr>\n",
       "    <tr>\n",
       "      <th>3</th>\n",
       "      <td>vilnius</td>\n",
       "      <td>21</td>\n",
       "      <td>romanian</td>\n",
       "      <td>0</td>\n",
       "      <td>1</td>\n",
       "      <td>395</td>\n",
       "      <td>10</td>\n",
       "    </tr>\n",
       "    <tr>\n",
       "      <th>4</th>\n",
       "      <td>vilnius</td>\n",
       "      <td>21</td>\n",
       "      <td>romanian</td>\n",
       "      <td>0</td>\n",
       "      <td>1</td>\n",
       "      <td>488</td>\n",
       "      <td>42</td>\n",
       "    </tr>\n",
       "  </tbody>\n",
       "</table>\n",
       "</div>"
      ],
      "text/plain": [
       "      city  date  language  mobile  avatar_id  hotel_id  stock\n",
       "0  vilnius    21  romanian       0          1       161     46\n",
       "1  vilnius    21  romanian       0          1       187     32\n",
       "2  vilnius    21  romanian       0          1       279     12\n",
       "3  vilnius    21  romanian       0          1       395     10\n",
       "4  vilnius    21  romanian       0          1       488     42"
      ]
     },
<<<<<<< HEAD
     "execution_count": 11,
=======
     "execution_count": 14,
>>>>>>> dd6c744ab074817c8bef8dc5058e47534b627369
     "metadata": {},
     "output_type": "execute_result"
    }
   ],
   "source": [
    "test=pd.read_csv(\"test_set.csv\",sep=\",\",header=0)\n",
    "#test.index=test['hotel_id']\n",
    "#test=test.drop(['hotel_id'],axis=1)\n",
    "test=test.drop(['order_requests'],axis=1)\n",
    "bis=test\n",
    "pd.get_dummies(requests, columns=['city','language'])\n",
    "test=test.drop(['index'],axis=1)\n",
    "test.head()"
   ]
  },
  {
   "cell_type": "code",
<<<<<<< HEAD
   "execution_count": null,
=======
   "execution_count": 27,
>>>>>>> dd6c744ab074817c8bef8dc5058e47534b627369
   "id": "f2d4b5f0",
   "metadata": {},
   "outputs": [],
   "source": [
    "features=pd.read_csv(\"features/features_hotels.csv\",sep=\",\",header=0)\n",
    "features_test=features.loc[features[\"hotel_id\"].loc[test['hotel_id']]]\n",
    "features_test=features_test.reset_index()"
   ]
  },
  {
   "cell_type": "code",
<<<<<<< HEAD
   "execution_count": null,
=======
   "execution_count": 28,
>>>>>>> dd6c744ab074817c8bef8dc5058e47534b627369
   "id": "085eccc2",
   "metadata": {},
   "outputs": [
    {
     "data": {
      "text/html": [
       "<div>\n",
       "<style scoped>\n",
       "    .dataframe tbody tr th:only-of-type {\n",
       "        vertical-align: middle;\n",
       "    }\n",
       "\n",
       "    .dataframe tbody tr th {\n",
       "        vertical-align: top;\n",
       "    }\n",
       "\n",
       "    .dataframe thead th {\n",
       "        text-align: right;\n",
       "    }\n",
       "</style>\n",
       "<table border=\"1\" class=\"dataframe\">\n",
       "  <thead>\n",
       "    <tr style=\"text-align: right;\">\n",
       "      <th></th>\n",
       "      <th>hotel_id</th>\n",
       "      <th>group</th>\n",
       "      <th>brand</th>\n",
       "      <th>city</th>\n",
       "      <th>parking</th>\n",
       "      <th>pool</th>\n",
       "      <th>children_policy</th>\n",
       "    </tr>\n",
       "  </thead>\n",
       "  <tbody>\n",
       "    <tr>\n",
       "      <th>0</th>\n",
       "      <td>0</td>\n",
       "      <td>Yin Yang</td>\n",
       "      <td>Royal Lotus</td>\n",
       "      <td>paris</td>\n",
       "      <td>1</td>\n",
       "      <td>0</td>\n",
       "      <td>1</td>\n",
       "    </tr>\n",
       "    <tr>\n",
       "      <th>1</th>\n",
       "      <td>1</td>\n",
       "      <td>Independant</td>\n",
       "      <td>Independant</td>\n",
       "      <td>copenhagen</td>\n",
       "      <td>1</td>\n",
       "      <td>0</td>\n",
       "      <td>0</td>\n",
       "    </tr>\n",
       "    <tr>\n",
       "      <th>2</th>\n",
       "      <td>2</td>\n",
       "      <td>Independant</td>\n",
       "      <td>Independant</td>\n",
       "      <td>madrid</td>\n",
       "      <td>0</td>\n",
       "      <td>0</td>\n",
       "      <td>0</td>\n",
       "    </tr>\n",
       "    <tr>\n",
       "      <th>3</th>\n",
       "      <td>3</td>\n",
       "      <td>Independant</td>\n",
       "      <td>Independant</td>\n",
       "      <td>rome</td>\n",
       "      <td>1</td>\n",
       "      <td>0</td>\n",
       "      <td>0</td>\n",
       "    </tr>\n",
       "    <tr>\n",
       "      <th>4</th>\n",
       "      <td>4</td>\n",
       "      <td>Independant</td>\n",
       "      <td>Independant</td>\n",
       "      <td>sofia</td>\n",
       "      <td>1</td>\n",
       "      <td>0</td>\n",
       "      <td>0</td>\n",
       "    </tr>\n",
       "  </tbody>\n",
       "</table>\n",
       "</div>"
      ],
      "text/plain": [
       "   hotel_id        group        brand        city  parking  pool  \\\n",
       "0         0     Yin Yang  Royal Lotus       paris        1     0   \n",
       "1         1  Independant  Independant  copenhagen        1     0   \n",
       "2         2  Independant  Independant      madrid        0     0   \n",
       "3         3  Independant  Independant        rome        1     0   \n",
       "4         4  Independant  Independant       sofia        1     0   \n",
       "\n",
       "   children_policy  \n",
       "0                1  \n",
       "1                0  \n",
       "2                0  \n",
       "3                0  \n",
       "4                0  "
      ]
     },
     "execution_count": 28,
     "metadata": {},
     "output_type": "execute_result"
    }
   ],
   "source": [
    "features.head()"
   ]
  },
  {
   "cell_type": "code",
   "execution_count": null,
<<<<<<< HEAD
=======
   "id": "2181c48b",
   "metadata": {},
   "outputs": [],
   "source": []
  },
  {
   "cell_type": "code",
   "execution_count": 29,
>>>>>>> dd6c744ab074817c8bef8dc5058e47534b627369
   "id": "1b78096f",
   "metadata": {},
   "outputs": [
    {
     "data": {
      "text/html": [
       "<div>\n",
       "<style scoped>\n",
       "    .dataframe tbody tr th:only-of-type {\n",
       "        vertical-align: middle;\n",
       "    }\n",
       "\n",
       "    .dataframe tbody tr th {\n",
       "        vertical-align: top;\n",
       "    }\n",
       "\n",
       "    .dataframe thead th {\n",
       "        text-align: right;\n",
       "    }\n",
       "</style>\n",
       "<table border=\"1\" class=\"dataframe\">\n",
       "  <thead>\n",
       "    <tr style=\"text-align: right;\">\n",
       "      <th></th>\n",
       "      <th>group</th>\n",
       "      <th>brand</th>\n",
       "      <th>city</th>\n",
       "      <th>parking</th>\n",
       "      <th>pool</th>\n",
       "      <th>children_policy</th>\n",
       "      <th>stock</th>\n",
       "      <th>date</th>\n",
       "      <th>language</th>\n",
       "      <th>mobile</th>\n",
       "    </tr>\n",
       "    <tr>\n",
       "      <th>hotel_id</th>\n",
       "      <th></th>\n",
       "      <th></th>\n",
       "      <th></th>\n",
       "      <th></th>\n",
       "      <th></th>\n",
       "      <th></th>\n",
       "      <th></th>\n",
       "      <th></th>\n",
       "      <th></th>\n",
       "      <th></th>\n",
       "    </tr>\n",
       "  </thead>\n",
       "  <tbody>\n",
       "    <tr>\n",
       "      <th>161</th>\n",
       "      <td>Boss Western</td>\n",
       "      <td>J.Halliday Inn</td>\n",
       "      <td>vilnius</td>\n",
       "      <td>1</td>\n",
       "      <td>0</td>\n",
       "      <td>0</td>\n",
       "      <td>46</td>\n",
       "      <td>21</td>\n",
       "      <td>romanian</td>\n",
       "      <td>0</td>\n",
       "    </tr>\n",
       "    <tr>\n",
       "      <th>187</th>\n",
       "      <td>Accar Hotels</td>\n",
       "      <td>Marcure</td>\n",
       "      <td>vilnius</td>\n",
       "      <td>1</td>\n",
       "      <td>1</td>\n",
       "      <td>0</td>\n",
       "      <td>32</td>\n",
       "      <td>21</td>\n",
       "      <td>romanian</td>\n",
       "      <td>0</td>\n",
       "    </tr>\n",
       "    <tr>\n",
       "      <th>279</th>\n",
       "      <td>Independant</td>\n",
       "      <td>Independant</td>\n",
       "      <td>vilnius</td>\n",
       "      <td>1</td>\n",
       "      <td>0</td>\n",
       "      <td>0</td>\n",
       "      <td>12</td>\n",
       "      <td>21</td>\n",
       "      <td>romanian</td>\n",
       "      <td>0</td>\n",
       "    </tr>\n",
       "    <tr>\n",
       "      <th>395</th>\n",
       "      <td>Accar Hotels</td>\n",
       "      <td>Ibas</td>\n",
       "      <td>vilnius</td>\n",
       "      <td>0</td>\n",
       "      <td>0</td>\n",
       "      <td>0</td>\n",
       "      <td>10</td>\n",
       "      <td>21</td>\n",
       "      <td>romanian</td>\n",
       "      <td>0</td>\n",
       "    </tr>\n",
       "    <tr>\n",
       "      <th>488</th>\n",
       "      <td>Accar Hotels</td>\n",
       "      <td>Safitel</td>\n",
       "      <td>vilnius</td>\n",
       "      <td>1</td>\n",
       "      <td>1</td>\n",
       "      <td>1</td>\n",
       "      <td>42</td>\n",
       "      <td>21</td>\n",
       "      <td>romanian</td>\n",
       "      <td>0</td>\n",
       "    </tr>\n",
       "  </tbody>\n",
       "</table>\n",
       "</div>"
      ],
      "text/plain": [
       "                 group           brand     city  parking  pool  \\\n",
       "hotel_id                                                         \n",
       "161       Boss Western  J.Halliday Inn  vilnius        1     0   \n",
       "187       Accar Hotels         Marcure  vilnius        1     1   \n",
       "279        Independant     Independant  vilnius        1     0   \n",
       "395       Accar Hotels            Ibas  vilnius        0     0   \n",
       "488       Accar Hotels         Safitel  vilnius        1     1   \n",
       "\n",
       "          children_policy  stock  date  language  mobile  \n",
       "hotel_id                                                  \n",
       "161                     0     46    21  romanian       0  \n",
       "187                     0     32    21  romanian       0  \n",
       "279                     0     12    21  romanian       0  \n",
       "395                     0     10    21  romanian       0  \n",
       "488                     1     42    21  romanian       0  "
      ]
     },
     "execution_count": 29,
     "metadata": {},
     "output_type": "execute_result"
    }
   ],
   "source": [
    "df=pd.concat([features_test,test[['stock','date','language',\"mobile\"]]],axis=1)\n",
    "df.index=df['hotel_id']\n",
    "df=df.drop(['hotel_id'],axis=1)\n",
    "df=df.drop(['index'],axis=1)\n",
    "df.head()"
   ]
  },
  {
   "cell_type": "code",
<<<<<<< HEAD
   "execution_count": null,
=======
   "execution_count": 30,
>>>>>>> dd6c744ab074817c8bef8dc5058e47534b627369
   "id": "07f52033",
   "metadata": {},
   "outputs": [],
   "source": [
    "requests=df"
   ]
  },
  {
   "cell_type": "code",
<<<<<<< HEAD
   "execution_count": null,
=======
   "execution_count": 31,
>>>>>>> dd6c744ab074817c8bef8dc5058e47534b627369
   "id": "a3e4756b",
   "metadata": {},
   "outputs": [],
   "source": [
    "requests=pd.get_dummies(requests, columns=['group','city','brand','language'])"
   ]
  },
  {
   "cell_type": "code",
<<<<<<< HEAD
   "execution_count": null,
=======
   "execution_count": 32,
>>>>>>> dd6c744ab074817c8bef8dc5058e47534b627369
   "id": "adb7f401",
   "metadata": {},
   "outputs": [
    {
     "name": "stderr",
     "output_type": "stream",
     "text": [
      "C:\\Users\\tessw\\anaconda3\\lib\\site-packages\\sklearn\\base.py:493: FutureWarning: The feature names should match those that were passed during fit. Starting version 1.2, an error will be raised.\n",
      "Feature names unseen at fit time:\n",
      "- brand\n",
      "- city\n",
      "- group\n",
      "- language\n",
      "Feature names seen at fit time, yet now missing:\n",
      "- brand_8 Premium\n",
      "- brand_Ardisson\n",
      "- brand_Boss Western\n",
      "- brand_Chill Garden Inn\n",
      "- brand_Corlton\n",
      "- ...\n",
      "\n",
      "  warnings.warn(message, FutureWarning)\n"
     ]
    },
    {
     "ename": "ValueError",
     "evalue": "could not convert string to float: 'Boss Western'",
     "output_type": "error",
     "traceback": [
      "\u001b[1;31m---------------------------------------------------------------------------\u001b[0m",
      "\u001b[1;31mValueError\u001b[0m                                Traceback (most recent call last)",
      "Input \u001b[1;32mIn [32]\u001b[0m, in \u001b[0;36m<cell line: 1>\u001b[1;34m()\u001b[0m\n\u001b[1;32m----> 1\u001b[0m predictions \u001b[38;5;241m=\u001b[39m \u001b[43mrf\u001b[49m\u001b[38;5;241;43m.\u001b[39;49m\u001b[43mpredict\u001b[49m\u001b[43m(\u001b[49m\u001b[43mdf\u001b[49m\u001b[43m)\u001b[49m\n",
      "File \u001b[1;32m~\\anaconda3\\lib\\site-packages\\sklearn\\ensemble\\_forest.py:971\u001b[0m, in \u001b[0;36mForestRegressor.predict\u001b[1;34m(self, X)\u001b[0m\n\u001b[0;32m    969\u001b[0m check_is_fitted(\u001b[38;5;28mself\u001b[39m)\n\u001b[0;32m    970\u001b[0m \u001b[38;5;66;03m# Check data\u001b[39;00m\n\u001b[1;32m--> 971\u001b[0m X \u001b[38;5;241m=\u001b[39m \u001b[38;5;28;43mself\u001b[39;49m\u001b[38;5;241;43m.\u001b[39;49m\u001b[43m_validate_X_predict\u001b[49m\u001b[43m(\u001b[49m\u001b[43mX\u001b[49m\u001b[43m)\u001b[49m\n\u001b[0;32m    973\u001b[0m \u001b[38;5;66;03m# Assign chunk of trees to jobs\u001b[39;00m\n\u001b[0;32m    974\u001b[0m n_jobs, _, _ \u001b[38;5;241m=\u001b[39m _partition_estimators(\u001b[38;5;28mself\u001b[39m\u001b[38;5;241m.\u001b[39mn_estimators, \u001b[38;5;28mself\u001b[39m\u001b[38;5;241m.\u001b[39mn_jobs)\n",
      "File \u001b[1;32m~\\anaconda3\\lib\\site-packages\\sklearn\\ensemble\\_forest.py:579\u001b[0m, in \u001b[0;36mBaseForest._validate_X_predict\u001b[1;34m(self, X)\u001b[0m\n\u001b[0;32m    576\u001b[0m \u001b[38;5;124;03m\"\"\"\u001b[39;00m\n\u001b[0;32m    577\u001b[0m \u001b[38;5;124;03mValidate X whenever one tries to predict, apply, predict_proba.\"\"\"\u001b[39;00m\n\u001b[0;32m    578\u001b[0m check_is_fitted(\u001b[38;5;28mself\u001b[39m)\n\u001b[1;32m--> 579\u001b[0m X \u001b[38;5;241m=\u001b[39m \u001b[38;5;28;43mself\u001b[39;49m\u001b[38;5;241;43m.\u001b[39;49m\u001b[43m_validate_data\u001b[49m\u001b[43m(\u001b[49m\u001b[43mX\u001b[49m\u001b[43m,\u001b[49m\u001b[43m \u001b[49m\u001b[43mdtype\u001b[49m\u001b[38;5;241;43m=\u001b[39;49m\u001b[43mDTYPE\u001b[49m\u001b[43m,\u001b[49m\u001b[43m \u001b[49m\u001b[43maccept_sparse\u001b[49m\u001b[38;5;241;43m=\u001b[39;49m\u001b[38;5;124;43m\"\u001b[39;49m\u001b[38;5;124;43mcsr\u001b[39;49m\u001b[38;5;124;43m\"\u001b[39;49m\u001b[43m,\u001b[49m\u001b[43m \u001b[49m\u001b[43mreset\u001b[49m\u001b[38;5;241;43m=\u001b[39;49m\u001b[38;5;28;43;01mFalse\u001b[39;49;00m\u001b[43m)\u001b[49m\n\u001b[0;32m    580\u001b[0m \u001b[38;5;28;01mif\u001b[39;00m issparse(X) \u001b[38;5;129;01mand\u001b[39;00m (X\u001b[38;5;241m.\u001b[39mindices\u001b[38;5;241m.\u001b[39mdtype \u001b[38;5;241m!=\u001b[39m np\u001b[38;5;241m.\u001b[39mintc \u001b[38;5;129;01mor\u001b[39;00m X\u001b[38;5;241m.\u001b[39mindptr\u001b[38;5;241m.\u001b[39mdtype \u001b[38;5;241m!=\u001b[39m np\u001b[38;5;241m.\u001b[39mintc):\n\u001b[0;32m    581\u001b[0m     \u001b[38;5;28;01mraise\u001b[39;00m \u001b[38;5;167;01mValueError\u001b[39;00m(\u001b[38;5;124m\"\u001b[39m\u001b[38;5;124mNo support for np.int64 index based sparse matrices\u001b[39m\u001b[38;5;124m\"\u001b[39m)\n",
      "File \u001b[1;32m~\\anaconda3\\lib\\site-packages\\sklearn\\base.py:566\u001b[0m, in \u001b[0;36mBaseEstimator._validate_data\u001b[1;34m(self, X, y, reset, validate_separately, **check_params)\u001b[0m\n\u001b[0;32m    564\u001b[0m     \u001b[38;5;28;01mraise\u001b[39;00m \u001b[38;5;167;01mValueError\u001b[39;00m(\u001b[38;5;124m\"\u001b[39m\u001b[38;5;124mValidation should be done on X, y or both.\u001b[39m\u001b[38;5;124m\"\u001b[39m)\n\u001b[0;32m    565\u001b[0m \u001b[38;5;28;01melif\u001b[39;00m \u001b[38;5;129;01mnot\u001b[39;00m no_val_X \u001b[38;5;129;01mand\u001b[39;00m no_val_y:\n\u001b[1;32m--> 566\u001b[0m     X \u001b[38;5;241m=\u001b[39m check_array(X, \u001b[38;5;241m*\u001b[39m\u001b[38;5;241m*\u001b[39mcheck_params)\n\u001b[0;32m    567\u001b[0m     out \u001b[38;5;241m=\u001b[39m X\n\u001b[0;32m    568\u001b[0m \u001b[38;5;28;01melif\u001b[39;00m no_val_X \u001b[38;5;129;01mand\u001b[39;00m \u001b[38;5;129;01mnot\u001b[39;00m no_val_y:\n",
      "File \u001b[1;32m~\\anaconda3\\lib\\site-packages\\sklearn\\utils\\validation.py:746\u001b[0m, in \u001b[0;36mcheck_array\u001b[1;34m(array, accept_sparse, accept_large_sparse, dtype, order, copy, force_all_finite, ensure_2d, allow_nd, ensure_min_samples, ensure_min_features, estimator)\u001b[0m\n\u001b[0;32m    744\u001b[0m         array \u001b[38;5;241m=\u001b[39m array\u001b[38;5;241m.\u001b[39mastype(dtype, casting\u001b[38;5;241m=\u001b[39m\u001b[38;5;124m\"\u001b[39m\u001b[38;5;124munsafe\u001b[39m\u001b[38;5;124m\"\u001b[39m, copy\u001b[38;5;241m=\u001b[39m\u001b[38;5;28;01mFalse\u001b[39;00m)\n\u001b[0;32m    745\u001b[0m     \u001b[38;5;28;01melse\u001b[39;00m:\n\u001b[1;32m--> 746\u001b[0m         array \u001b[38;5;241m=\u001b[39m \u001b[43mnp\u001b[49m\u001b[38;5;241;43m.\u001b[39;49m\u001b[43masarray\u001b[49m\u001b[43m(\u001b[49m\u001b[43marray\u001b[49m\u001b[43m,\u001b[49m\u001b[43m \u001b[49m\u001b[43morder\u001b[49m\u001b[38;5;241;43m=\u001b[39;49m\u001b[43morder\u001b[49m\u001b[43m,\u001b[49m\u001b[43m \u001b[49m\u001b[43mdtype\u001b[49m\u001b[38;5;241;43m=\u001b[39;49m\u001b[43mdtype\u001b[49m\u001b[43m)\u001b[49m\n\u001b[0;32m    747\u001b[0m \u001b[38;5;28;01mexcept\u001b[39;00m ComplexWarning \u001b[38;5;28;01mas\u001b[39;00m complex_warning:\n\u001b[0;32m    748\u001b[0m     \u001b[38;5;28;01mraise\u001b[39;00m \u001b[38;5;167;01mValueError\u001b[39;00m(\n\u001b[0;32m    749\u001b[0m         \u001b[38;5;124m\"\u001b[39m\u001b[38;5;124mComplex data not supported\u001b[39m\u001b[38;5;130;01m\\n\u001b[39;00m\u001b[38;5;132;01m{}\u001b[39;00m\u001b[38;5;130;01m\\n\u001b[39;00m\u001b[38;5;124m\"\u001b[39m\u001b[38;5;241m.\u001b[39mformat(array)\n\u001b[0;32m    750\u001b[0m     ) \u001b[38;5;28;01mfrom\u001b[39;00m \u001b[38;5;21;01mcomplex_warning\u001b[39;00m\n",
      "File \u001b[1;32m~\\anaconda3\\lib\\site-packages\\pandas\\core\\generic.py:2064\u001b[0m, in \u001b[0;36mNDFrame.__array__\u001b[1;34m(self, dtype)\u001b[0m\n\u001b[0;32m   2063\u001b[0m \u001b[38;5;28;01mdef\u001b[39;00m \u001b[38;5;21m__array__\u001b[39m(\u001b[38;5;28mself\u001b[39m, dtype: npt\u001b[38;5;241m.\u001b[39mDTypeLike \u001b[38;5;241m|\u001b[39m \u001b[38;5;28;01mNone\u001b[39;00m \u001b[38;5;241m=\u001b[39m \u001b[38;5;28;01mNone\u001b[39;00m) \u001b[38;5;241m-\u001b[39m\u001b[38;5;241m>\u001b[39m np\u001b[38;5;241m.\u001b[39mndarray:\n\u001b[1;32m-> 2064\u001b[0m     \u001b[38;5;28;01mreturn\u001b[39;00m \u001b[43mnp\u001b[49m\u001b[38;5;241;43m.\u001b[39;49m\u001b[43masarray\u001b[49m\u001b[43m(\u001b[49m\u001b[38;5;28;43mself\u001b[39;49m\u001b[38;5;241;43m.\u001b[39;49m\u001b[43m_values\u001b[49m\u001b[43m,\u001b[49m\u001b[43m \u001b[49m\u001b[43mdtype\u001b[49m\u001b[38;5;241;43m=\u001b[39;49m\u001b[43mdtype\u001b[49m\u001b[43m)\u001b[49m\n",
      "\u001b[1;31mValueError\u001b[0m: could not convert string to float: 'Boss Western'"
     ]
    }
   ],
   "source": [
    "predictions = rf.predict(df)"
   ]
  },
  {
   "cell_type": "code",
   "execution_count": null,
   "id": "e0195c81",
   "metadata": {},
   "outputs": [],
   "source": [
    "submission=pd.DataFrame()\n",
    "submission['index']=bis['index']\n",
    "submission['price']=predictions\n",
    "submission=submission.reset_index()\n",
    "submission=submission.drop(['level_0'],axis=1)"
   ]
  },
  {
   "cell_type": "code",
   "execution_count": null,
   "id": "8d6d11ec",
   "metadata": {},
   "outputs": [],
   "source": [
    "submission.head()"
   ]
  },
  {
   "cell_type": "code",
   "execution_count": null,
   "id": "698f8388",
   "metadata": {},
   "outputs": [],
   "source": [
    "submission.to_csv('submission.csv', index = False)"
   ]
  },
  {
   "cell_type": "code",
   "execution_count": null,
   "id": "d62a80e7",
   "metadata": {},
   "outputs": [],
   "source": [
    "test_set = pd.read_csv('test_set.csv')\n",
    "test = test_set.drop(['order_requests'],axis=1)\n",
    "bis = test\n",
    "\n",
    "test = test.drop(['index'],axis=1)\n",
    "test.head()\n",
    "features = pd.read_csv(\"features/features_hotels.csv\",sep=\",\",header=0)\n",
    "features_test = features.loc[features[\"hotel_id\"].loc[test['hotel_id']]]\n",
    "features_test = features_test.reset_index()\n",
    "df = pd.concat([features_test,test[['stock','date','language',\"mobile\"]]],axis=1)\n",
    "df = df.drop(['hotel_id'],axis=1)\n",
    "df = df.drop(['index'],axis=1)\n",
    "df = pd.get_dummies(df, columns = ['group', 'city', 'brand', 'language'])\n",
    "df.head()\n",
    "df = df.drop(columns = ['language_slovene', 'language_latvian' ])"
   ]
  },
  {
   "cell_type": "code",
   "execution_count": null,
   "id": "b75db23b",
   "metadata": {},
   "outputs": [],
   "source": [
    "submission = pd.DataFrame()\n",
    "submission['index'] = bis['index']\n",
    "submission['price'] = predictions\n",
    "submission = submission.reset_index()\n",
    "submission = submission.drop(['level_0'],axis=1)"
   ]
  },
  {
   "cell_type": "code",
   "execution_count": null,
   "id": "eadfb446",
   "metadata": {},
   "outputs": [],
   "source": []
  }
 ],
 "metadata": {
  "kernelspec": {
   "display_name": "Python 3.8.5 ('base')",
   "language": "python",
   "name": "python3"
  },
  "language_info": {
   "codemirror_mode": {
    "name": "ipython",
    "version": 3
   },
   "file_extension": ".py",
   "mimetype": "text/x-python",
   "name": "python",
   "nbconvert_exporter": "python",
   "pygments_lexer": "ipython3",
   "version": "3.8.5"
  },
  "vscode": {
   "interpreter": {
    "hash": "c6143e16e62947a678f3b6ab5281e774f4e87828a5d95ed282b3e18f31575dd1"
   }
  }
 },
 "nbformat": 4,
 "nbformat_minor": 5
}
