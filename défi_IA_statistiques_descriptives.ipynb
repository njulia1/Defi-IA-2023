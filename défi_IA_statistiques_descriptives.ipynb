{
 "cells": [
  {
   "cell_type": "markdown",
   "metadata": {},
   "source": [
    "# Défi AIF - code statistiques descriptives"
   ]
  },
  {
   "cell_type": "code",
   "execution_count": 1,
   "metadata": {},
   "outputs": [
    {
     "name": "stderr",
     "output_type": "stream",
     "text": [
      "C:\\Users\\dusse\\Anaconda3\\lib\\site-packages\\statsmodels\\tools\\_testing.py:19: FutureWarning: pandas.util.testing is deprecated. Use the functions in the public API at pandas.testing instead.\n",
      "  import pandas.util.testing as tm\n"
     ]
    }
   ],
   "source": [
    "import pandas as pd\n",
    "import numpy as np\n",
    "%matplotlib inline\n",
    "import matplotlib.pyplot as plt\n",
    "import seaborn as sns"
   ]
  },
  {
   "cell_type": "markdown",
   "metadata": {},
   "source": [
    "## Chargement des données"
   ]
  },
  {
   "cell_type": "code",
   "execution_count": 2,
   "metadata": {},
   "outputs": [],
   "source": [
    "requests=pd.read_csv(\"laulau_data.csv\",sep=\",\",header=0)\n",
    "features_hotel=pd.read_csv(\"features_hotels.csv\",sep=\",\",header=0)"
   ]
  },
  {
   "cell_type": "code",
   "execution_count": 3,
   "metadata": {},
   "outputs": [
    {
     "data": {
      "text/html": [
       "<div>\n",
       "<style scoped>\n",
       "    .dataframe tbody tr th:only-of-type {\n",
       "        vertical-align: middle;\n",
       "    }\n",
       "\n",
       "    .dataframe tbody tr th {\n",
       "        vertical-align: top;\n",
       "    }\n",
       "\n",
       "    .dataframe thead th {\n",
       "        text-align: right;\n",
       "    }\n",
       "</style>\n",
       "<table border=\"1\" class=\"dataframe\">\n",
       "  <thead>\n",
       "    <tr style=\"text-align: right;\">\n",
       "      <th></th>\n",
       "      <th>Unnamed: 0</th>\n",
       "      <th>index</th>\n",
       "      <th>hotel_id</th>\n",
       "      <th>group</th>\n",
       "      <th>brand</th>\n",
       "      <th>city</th>\n",
       "      <th>parking</th>\n",
       "      <th>pool</th>\n",
       "      <th>children_policy</th>\n",
       "      <th>price</th>\n",
       "      <th>stock</th>\n",
       "      <th>date</th>\n",
       "      <th>language</th>\n",
       "      <th>mobile</th>\n",
       "      <th>avatar_name</th>\n",
       "    </tr>\n",
       "  </thead>\n",
       "  <tbody>\n",
       "    <tr>\n",
       "      <th>0</th>\n",
       "      <td>0</td>\n",
       "      <td>519</td>\n",
       "      <td>519</td>\n",
       "      <td>Yin Yang</td>\n",
       "      <td>Royal Lotus</td>\n",
       "      <td>copenhagen</td>\n",
       "      <td>0</td>\n",
       "      <td>0</td>\n",
       "      <td>0</td>\n",
       "      <td>208</td>\n",
       "      <td>68</td>\n",
       "      <td>30</td>\n",
       "      <td>french</td>\n",
       "      <td>0</td>\n",
       "      <td>laulau</td>\n",
       "    </tr>\n",
       "    <tr>\n",
       "      <th>1</th>\n",
       "      <td>1</td>\n",
       "      <td>523</td>\n",
       "      <td>523</td>\n",
       "      <td>Independant</td>\n",
       "      <td>Independant</td>\n",
       "      <td>copenhagen</td>\n",
       "      <td>0</td>\n",
       "      <td>0</td>\n",
       "      <td>0</td>\n",
       "      <td>85</td>\n",
       "      <td>41</td>\n",
       "      <td>30</td>\n",
       "      <td>french</td>\n",
       "      <td>0</td>\n",
       "      <td>laulau</td>\n",
       "    </tr>\n",
       "    <tr>\n",
       "      <th>2</th>\n",
       "      <td>2</td>\n",
       "      <td>898</td>\n",
       "      <td>898</td>\n",
       "      <td>Yin Yang</td>\n",
       "      <td>8 Premium</td>\n",
       "      <td>copenhagen</td>\n",
       "      <td>1</td>\n",
       "      <td>0</td>\n",
       "      <td>0</td>\n",
       "      <td>86</td>\n",
       "      <td>24</td>\n",
       "      <td>30</td>\n",
       "      <td>french</td>\n",
       "      <td>0</td>\n",
       "      <td>laulau</td>\n",
       "    </tr>\n",
       "    <tr>\n",
       "      <th>3</th>\n",
       "      <td>3</td>\n",
       "      <td>770</td>\n",
       "      <td>770</td>\n",
       "      <td>Morriott International</td>\n",
       "      <td>Morriot</td>\n",
       "      <td>copenhagen</td>\n",
       "      <td>1</td>\n",
       "      <td>1</td>\n",
       "      <td>0</td>\n",
       "      <td>210</td>\n",
       "      <td>73</td>\n",
       "      <td>30</td>\n",
       "      <td>french</td>\n",
       "      <td>0</td>\n",
       "      <td>laulau</td>\n",
       "    </tr>\n",
       "    <tr>\n",
       "      <th>4</th>\n",
       "      <td>4</td>\n",
       "      <td>562</td>\n",
       "      <td>562</td>\n",
       "      <td>Chillton Worldwide</td>\n",
       "      <td>Quadrupletree</td>\n",
       "      <td>copenhagen</td>\n",
       "      <td>0</td>\n",
       "      <td>0</td>\n",
       "      <td>0</td>\n",
       "      <td>215</td>\n",
       "      <td>74</td>\n",
       "      <td>30</td>\n",
       "      <td>french</td>\n",
       "      <td>0</td>\n",
       "      <td>laulau</td>\n",
       "    </tr>\n",
       "    <tr>\n",
       "      <th>...</th>\n",
       "      <td>...</td>\n",
       "      <td>...</td>\n",
       "      <td>...</td>\n",
       "      <td>...</td>\n",
       "      <td>...</td>\n",
       "      <td>...</td>\n",
       "      <td>...</td>\n",
       "      <td>...</td>\n",
       "      <td>...</td>\n",
       "      <td>...</td>\n",
       "      <td>...</td>\n",
       "      <td>...</td>\n",
       "      <td>...</td>\n",
       "      <td>...</td>\n",
       "      <td>...</td>\n",
       "    </tr>\n",
       "    <tr>\n",
       "      <th>935</th>\n",
       "      <td>88</td>\n",
       "      <td>498</td>\n",
       "      <td>498</td>\n",
       "      <td>Boss Western</td>\n",
       "      <td>Boss Western</td>\n",
       "      <td>vilnius</td>\n",
       "      <td>0</td>\n",
       "      <td>0</td>\n",
       "      <td>0</td>\n",
       "      <td>94</td>\n",
       "      <td>40</td>\n",
       "      <td>30</td>\n",
       "      <td>czech</td>\n",
       "      <td>1</td>\n",
       "      <td>laulau</td>\n",
       "    </tr>\n",
       "    <tr>\n",
       "      <th>936</th>\n",
       "      <td>89</td>\n",
       "      <td>516</td>\n",
       "      <td>516</td>\n",
       "      <td>Morriott International</td>\n",
       "      <td>Corlton</td>\n",
       "      <td>vilnius</td>\n",
       "      <td>1</td>\n",
       "      <td>0</td>\n",
       "      <td>2</td>\n",
       "      <td>195</td>\n",
       "      <td>117</td>\n",
       "      <td>30</td>\n",
       "      <td>czech</td>\n",
       "      <td>1</td>\n",
       "      <td>laulau</td>\n",
       "    </tr>\n",
       "    <tr>\n",
       "      <th>937</th>\n",
       "      <td>90</td>\n",
       "      <td>187</td>\n",
       "      <td>187</td>\n",
       "      <td>Accar Hotels</td>\n",
       "      <td>Marcure</td>\n",
       "      <td>vilnius</td>\n",
       "      <td>1</td>\n",
       "      <td>1</td>\n",
       "      <td>0</td>\n",
       "      <td>137</td>\n",
       "      <td>86</td>\n",
       "      <td>30</td>\n",
       "      <td>czech</td>\n",
       "      <td>1</td>\n",
       "      <td>laulau</td>\n",
       "    </tr>\n",
       "    <tr>\n",
       "      <th>938</th>\n",
       "      <td>91</td>\n",
       "      <td>687</td>\n",
       "      <td>687</td>\n",
       "      <td>Chillton Worldwide</td>\n",
       "      <td>Tripletree</td>\n",
       "      <td>vilnius</td>\n",
       "      <td>0</td>\n",
       "      <td>0</td>\n",
       "      <td>0</td>\n",
       "      <td>110</td>\n",
       "      <td>52</td>\n",
       "      <td>30</td>\n",
       "      <td>czech</td>\n",
       "      <td>1</td>\n",
       "      <td>laulau</td>\n",
       "    </tr>\n",
       "    <tr>\n",
       "      <th>939</th>\n",
       "      <td>92</td>\n",
       "      <td>408</td>\n",
       "      <td>408</td>\n",
       "      <td>Morriott International</td>\n",
       "      <td>CourtYord</td>\n",
       "      <td>vilnius</td>\n",
       "      <td>1</td>\n",
       "      <td>0</td>\n",
       "      <td>0</td>\n",
       "      <td>110</td>\n",
       "      <td>63</td>\n",
       "      <td>30</td>\n",
       "      <td>czech</td>\n",
       "      <td>1</td>\n",
       "      <td>laulau</td>\n",
       "    </tr>\n",
       "  </tbody>\n",
       "</table>\n",
       "<p>940 rows × 15 columns</p>\n",
       "</div>"
      ],
      "text/plain": [
       "     Unnamed: 0  index  hotel_id                   group          brand  \\\n",
       "0             0    519       519                Yin Yang    Royal Lotus   \n",
       "1             1    523       523             Independant    Independant   \n",
       "2             2    898       898                Yin Yang      8 Premium   \n",
       "3             3    770       770  Morriott International        Morriot   \n",
       "4             4    562       562      Chillton Worldwide  Quadrupletree   \n",
       "..          ...    ...       ...                     ...            ...   \n",
       "935          88    498       498            Boss Western   Boss Western   \n",
       "936          89    516       516  Morriott International        Corlton   \n",
       "937          90    187       187            Accar Hotels        Marcure   \n",
       "938          91    687       687      Chillton Worldwide     Tripletree   \n",
       "939          92    408       408  Morriott International      CourtYord   \n",
       "\n",
       "           city  parking  pool  children_policy  price  stock  date language  \\\n",
       "0    copenhagen        0     0                0    208     68    30   french   \n",
       "1    copenhagen        0     0                0     85     41    30   french   \n",
       "2    copenhagen        1     0                0     86     24    30   french   \n",
       "3    copenhagen        1     1                0    210     73    30   french   \n",
       "4    copenhagen        0     0                0    215     74    30   french   \n",
       "..          ...      ...   ...              ...    ...    ...   ...      ...   \n",
       "935     vilnius        0     0                0     94     40    30    czech   \n",
       "936     vilnius        1     0                2    195    117    30    czech   \n",
       "937     vilnius        1     1                0    137     86    30    czech   \n",
       "938     vilnius        0     0                0    110     52    30    czech   \n",
       "939     vilnius        1     0                0    110     63    30    czech   \n",
       "\n",
       "     mobile avatar_name  \n",
       "0         0      laulau  \n",
       "1         0      laulau  \n",
       "2         0      laulau  \n",
       "3         0      laulau  \n",
       "4         0      laulau  \n",
       "..      ...         ...  \n",
       "935       1      laulau  \n",
       "936       1      laulau  \n",
       "937       1      laulau  \n",
       "938       1      laulau  \n",
       "939       1      laulau  \n",
       "\n",
       "[940 rows x 15 columns]"
      ]
     },
     "execution_count": 3,
     "metadata": {},
     "output_type": "execute_result"
    }
   ],
   "source": [
    "requests"
   ]
  },
  {
   "cell_type": "markdown",
   "metadata": {},
   "source": [
    "## Some descriptive statistics"
   ]
  },
  {
   "cell_type": "markdown",
   "metadata": {},
   "source": [
    "### Study of the variable \"parking\""
   ]
  },
  {
   "cell_type": "code",
   "execution_count": 4,
   "metadata": {},
   "outputs": [
    {
     "data": {
      "image/png": "[encoded data removed]",
      "text/plain": [
       "<Figure size 432x432 with 1 Axes>"
      ]
     },
     "metadata": {},
     "output_type": "display_data"
    }
   ],
   "source": [
    "t = pd.crosstab(requests[\"parking\"], \"freq\")\n",
    "t.plot.pie(subplots=True,figsize=(6,6))\n",
    "plt.legend(loc=\"upper left\")\n",
    "plt.title(\"Hotel with parking\")\n",
    "plt.show()"
   ]
  },
  {
   "cell_type": "markdown",
   "metadata": {},
   "source": [
    "### Study of the variable \"pool\""
   ]
  },
  {
   "cell_type": "code",
   "execution_count": 5,
   "metadata": {},
   "outputs": [
    {
     "data": {
      "image/png": "[encoded data removed]",
      "text/plain": [
       "<Figure size 432x432 with 1 Axes>"
      ]
     },
     "metadata": {},
     "output_type": "display_data"
    }
   ],
   "source": [
    "t = pd.crosstab(requests[\"pool\"], \"freq\")\n",
    "t.plot.pie(subplots=True,figsize=(6,6))\n",
    "plt.legend(loc=\"upper left\")\n",
    "plt.title(\"Hotel with pool\")\n",
    "plt.show()"
   ]
  },
  {
   "cell_type": "markdown",
   "metadata": {},
   "source": [
    "### Study of the variable \"children policy\""
   ]
  },
  {
   "cell_type": "code",
   "execution_count": 6,
   "metadata": {},
   "outputs": [
    {
     "data": {
      "image/png": "[encoded data removed]",
      "text/plain": [
       "<Figure size 432x432 with 1 Axes>"
      ]
     },
     "metadata": {},
     "output_type": "display_data"
    }
   ],
   "source": [
    "t = pd.crosstab(requests[\"children_policy\"], \"freq\")\n",
    "t.plot.pie(subplots=True,figsize=(6,6))\n",
    "plt.legend(loc=\"upper left\")\n",
    "plt.title(\"Hotel with children policy\")\n",
    "plt.show()"
   ]
  },
  {
   "cell_type": "markdown",
   "metadata": {},
   "source": [
    "### Study of the hotel price"
   ]
  },
  {
   "cell_type": "code",
   "execution_count": 7,
   "metadata": {},
   "outputs": [
    {
     "data": {
      "image/png": "[encoded data removed]",
      "text/plain": [
       "<Figure size 432x288 with 1 Axes>"
      ]
     },
     "metadata": {
      "needs_background": "light"
     },
     "output_type": "display_data"
    }
   ],
   "source": [
    "requests[\"price\"].hist(bins=20)\n",
    "plt.title(\"Histogramme representant le prix des hotels\")\n",
    "plt.show()"
   ]
  },
  {
   "cell_type": "code",
   "execution_count": 44,
   "metadata": {},
   "outputs": [
    {
     "data": {
      "text/plain": [
       "<matplotlib.axes._subplots.AxesSubplot at 0x2b39429b988>"
      ]
     },
     "execution_count": 44,
     "metadata": {},
     "output_type": "execute_result"
    },
    {
     "data": {
      "image/png": "[encoded data removed]",
      "text/plain": [
       "<Figure size 720x288 with 2 Axes>"
      ]
     },
     "metadata": {
      "needs_background": "light"
     },
     "output_type": "display_data"
    }
   ],
   "source": [
    "_, axes = plt.subplots(1, 2, sharey=True, figsize=(10, 4))\n",
    "sns.boxplot(x='pool', y='price', data=requests,ax=axes[0])\n",
    "sns.boxplot(x='parking', y='price', data=requests,ax=axes[1])"
   ]
  },
  {
   "cell_type": "code",
   "execution_count": 8,
   "metadata": {},
   "outputs": [
    {
     "data": {
      "text/plain": [
       "<matplotlib.axes._subplots.AxesSubplot at 0x27f25e90a88>"
      ]
     },
     "execution_count": 8,
     "metadata": {},
     "output_type": "execute_result"
    },
    {
     "data": {
      "image/png": "[encoded data removed]",
      "text/plain": [
       "<Figure size 432x288 with 1 Axes>"
      ]
     },
     "metadata": {
      "needs_background": "light"
     },
     "output_type": "display_data"
    }
   ],
   "source": [
    "sns.boxplot(x='city', y='price', data=requests)"
   ]
  },
  {
   "cell_type": "code",
   "execution_count": null,
   "metadata": {},
   "outputs": [],
   "source": []
  }
 ],
 "metadata": {
  "kernelspec": {
   "display_name": "Python 3",
   "language": "python",
   "name": "python3"
  },
  "language_info": {
   "codemirror_mode": {
    "name": "ipython",
    "version": 3
   },
   "file_extension": ".py",
   "mimetype": "text/x-python",
   "name": "python",
   "nbconvert_exporter": "python",
   "pygments_lexer": "ipython3",
   "version": "3.7.4"
  }
 },
 "nbformat": 4,
 "nbformat_minor": 2
}
