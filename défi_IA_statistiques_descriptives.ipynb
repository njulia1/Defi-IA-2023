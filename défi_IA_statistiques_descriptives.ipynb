{
 "cells": [
  {
   "cell_type": "markdown",
   "metadata": {},
   "source": [
    "# Défi AIF - code statistiques descriptives"
   ]
  },
  {
   "cell_type": "code",
   "execution_count": 40,
   "metadata": {},
   "outputs": [],
   "source": [
    "import pandas as pd\n",
    "import numpy as np\n",
    "%matplotlib inline\n",
    "import matplotlib.pyplot as plt\n",
    "import seaborn as sns\n",
    "\n",
    "import mca\n",
    "from mca import MCA\n",
    "\n",
    "from statsmodels.graphics.mosaicplot import mosaic"
   ]
  },
  {
   "cell_type": "markdown",
   "metadata": {},
   "source": [
    "## Chargement des données"
   ]
  },
  {
   "cell_type": "code",
   "execution_count": 37,
   "metadata": {},
   "outputs": [
    {
     "data": {
      "text/html": [
       "<div>\n",
       "<style scoped>\n",
       "    .dataframe tbody tr th:only-of-type {\n",
       "        vertical-align: middle;\n",
       "    }\n",
       "\n",
       "    .dataframe tbody tr th {\n",
       "        vertical-align: top;\n",
       "    }\n",
       "\n",
       "    .dataframe thead th {\n",
       "        text-align: right;\n",
       "    }\n",
       "</style>\n",
       "<table border=\"1\" class=\"dataframe\">\n",
       "  <thead>\n",
       "    <tr style=\"text-align: right;\">\n",
       "      <th></th>\n",
       "      <th>group</th>\n",
       "      <th>brand</th>\n",
       "      <th>city</th>\n",
       "      <th>parking</th>\n",
       "      <th>pool</th>\n",
       "      <th>children_policy</th>\n",
       "      <th>price</th>\n",
       "      <th>stock</th>\n",
       "      <th>date</th>\n",
       "      <th>language</th>\n",
       "      <th>mobile</th>\n",
       "      <th>avatar_name</th>\n",
       "    </tr>\n",
       "    <tr>\n",
       "      <th>hotel_id</th>\n",
       "      <th></th>\n",
       "      <th></th>\n",
       "      <th></th>\n",
       "      <th></th>\n",
       "      <th></th>\n",
       "      <th></th>\n",
       "      <th></th>\n",
       "      <th></th>\n",
       "      <th></th>\n",
       "      <th></th>\n",
       "      <th></th>\n",
       "      <th></th>\n",
       "    </tr>\n",
       "  </thead>\n",
       "  <tbody>\n",
       "    <tr>\n",
       "      <th>917</th>\n",
       "      <td>Morriott International</td>\n",
       "      <td>Corlton</td>\n",
       "      <td>amsterdam</td>\n",
       "      <td>1</td>\n",
       "      <td>1</td>\n",
       "      <td>0</td>\n",
       "      <td>366</td>\n",
       "      <td>14</td>\n",
       "      <td>10</td>\n",
       "      <td>austrian</td>\n",
       "      <td>0</td>\n",
       "      <td>laulau</td>\n",
       "    </tr>\n",
       "    <tr>\n",
       "      <th>101</th>\n",
       "      <td>Accar Hotels</td>\n",
       "      <td>Safitel</td>\n",
       "      <td>amsterdam</td>\n",
       "      <td>1</td>\n",
       "      <td>0</td>\n",
       "      <td>0</td>\n",
       "      <td>359</td>\n",
       "      <td>10</td>\n",
       "      <td>10</td>\n",
       "      <td>austrian</td>\n",
       "      <td>0</td>\n",
       "      <td>laulau</td>\n",
       "    </tr>\n",
       "    <tr>\n",
       "      <th>762</th>\n",
       "      <td>Yin Yang</td>\n",
       "      <td>Ardisson</td>\n",
       "      <td>amsterdam</td>\n",
       "      <td>1</td>\n",
       "      <td>1</td>\n",
       "      <td>0</td>\n",
       "      <td>193</td>\n",
       "      <td>10</td>\n",
       "      <td>10</td>\n",
       "      <td>austrian</td>\n",
       "      <td>0</td>\n",
       "      <td>laulau</td>\n",
       "    </tr>\n",
       "    <tr>\n",
       "      <th>140</th>\n",
       "      <td>Boss Western</td>\n",
       "      <td>Boss Western</td>\n",
       "      <td>amsterdam</td>\n",
       "      <td>0</td>\n",
       "      <td>0</td>\n",
       "      <td>0</td>\n",
       "      <td>205</td>\n",
       "      <td>4</td>\n",
       "      <td>10</td>\n",
       "      <td>austrian</td>\n",
       "      <td>0</td>\n",
       "      <td>laulau</td>\n",
       "    </tr>\n",
       "    <tr>\n",
       "      <th>256</th>\n",
       "      <td>Accar Hotels</td>\n",
       "      <td>Ibas</td>\n",
       "      <td>amsterdam</td>\n",
       "      <td>1</td>\n",
       "      <td>0</td>\n",
       "      <td>0</td>\n",
       "      <td>86</td>\n",
       "      <td>0</td>\n",
       "      <td>10</td>\n",
       "      <td>austrian</td>\n",
       "      <td>0</td>\n",
       "      <td>laulau</td>\n",
       "    </tr>\n",
       "  </tbody>\n",
       "</table>\n",
       "</div>"
      ],
      "text/plain": [
       "                           group         brand       city  parking  pool  \\\n",
       "hotel_id                                                                   \n",
       "917       Morriott International       Corlton  amsterdam        1     1   \n",
       "101                 Accar Hotels       Safitel  amsterdam        1     0   \n",
       "762                     Yin Yang      Ardisson  amsterdam        1     1   \n",
       "140                 Boss Western  Boss Western  amsterdam        0     0   \n",
       "256                 Accar Hotels          Ibas  amsterdam        1     0   \n",
       "\n",
       "          children_policy  price  stock  date  language  mobile avatar_name  \n",
       "hotel_id                                                                     \n",
       "917                     0    366     14    10  austrian       0      laulau  \n",
       "101                     0    359     10    10  austrian       0      laulau  \n",
       "762                     0    193     10    10  austrian       0      laulau  \n",
       "140                     0    205      4    10  austrian       0      laulau  \n",
       "256                     0     86      0    10  austrian       0      laulau  "
      ]
     },
     "execution_count": 37,
     "metadata": {},
     "output_type": "execute_result"
    }
   ],
   "source": [
    "requests=pd.read_csv(\"data.csv\",sep=\",\",header=0)\n",
    "requests.index=requests['hotel_id']\n",
    "requests=requests.drop(['Unnamed: 0'], axis=1)\n",
    "requests=requests.drop(['Unnamed: 0.1'], axis=1)\n",
    "requests=requests.drop(['Unnamed: 0.1.1'], axis=1)\n",
    "requests=requests.drop(['Unnamed: 0.1.1.1'], axis=1)\n",
    "requests=requests.drop(['index'], axis=1)\n",
    "requests=requests.drop(['hotel_id'],axis=1)\n",
    "requests.head()"
   ]
  },
  {
   "cell_type": "markdown",
   "metadata": {},
   "source": [
    "## Some descriptive statistics"
   ]
  },
  {
   "cell_type": "markdown",
   "metadata": {},
   "source": [
    "### Study of the variable \"parking\""
   ]
  },
  {
   "cell_type": "markdown",
   "metadata": {},
   "source": [
    "1 si l'hotel dispose d'un parking payant, 0 sinon"
   ]
  },
  {
   "cell_type": "code",
   "execution_count": 16,
   "metadata": {},
   "outputs": [
    {
     "data": {
      "image/png": "[encoded data removed]",
      "text/plain": [
       "<Figure size 432x432 with 1 Axes>"
      ]
     },
     "metadata": {},
     "output_type": "display_data"
    }
   ],
   "source": [
    "t = pd.crosstab(requests[\"parking\"], \"freq\")\n",
    "t.plot.pie(subplots=True,figsize=(6,6))\n",
    "plt.legend(loc=\"upper left\")\n",
    "plt.title(\"Hotel with parking\")\n",
    "plt.show()"
   ]
  },
  {
   "cell_type": "markdown",
   "metadata": {},
   "source": [
    "### Study of the variable \"pool\""
   ]
  },
  {
   "cell_type": "markdown",
   "metadata": {},
   "source": [
    "1 si l'hotel dispose d'une piscine payante, 0 sinon"
   ]
  },
  {
   "cell_type": "code",
   "execution_count": 17,
   "metadata": {},
   "outputs": [
    {
     "data": {
      "image/png": "[encoded data removed]",
      "text/plain": [
       "<Figure size 432x432 with 1 Axes>"
      ]
     },
     "metadata": {},
     "output_type": "display_data"
    }
   ],
   "source": [
    "t = pd.crosstab(requests[\"pool\"], \"freq\")\n",
    "t.plot.pie(subplots=True,figsize=(6,6))\n",
    "plt.legend(loc=\"upper left\")\n",
    "plt.title(\"Hotel with pool\")\n",
    "plt.show()"
   ]
  },
  {
   "cell_type": "markdown",
   "metadata": {},
   "source": [
    "### Study of the variable \"children policy\""
   ]
  },
  {
   "cell_type": "markdown",
   "metadata": {},
   "source": [
    "2 si l'hôtel interdit les enfants de moins de 18 ou 21 ans, \n",
    "1 si l'hôtel interdit les enfants de moins de 12 ans, \n",
    "0 sinon"
   ]
  },
  {
   "cell_type": "code",
   "execution_count": 18,
   "metadata": {},
   "outputs": [
    {
     "data": {
      "image/png": "[encoded data removed]",
      "text/plain": [
       "<Figure size 432x432 with 1 Axes>"
      ]
     },
     "metadata": {},
     "output_type": "display_data"
    }
   ],
   "source": [
    "t = pd.crosstab(requests[\"children_policy\"], \"freq\")\n",
    "t.plot.pie(subplots=True,figsize=(6,6))\n",
    "plt.legend(loc=\"upper left\")\n",
    "plt.title(\"Hotel with children policy\")\n",
    "plt.show()"
   ]
  },
  {
   "cell_type": "markdown",
   "metadata": {},
   "source": [
    "### Study of the hotels price"
   ]
  },
  {
   "cell_type": "code",
   "execution_count": 54,
   "metadata": {},
   "outputs": [
    {
     "name": "stdout",
     "output_type": "stream",
     "text": [
      "prix moyen : 161.99369511898297\n"
     ]
    }
   ],
   "source": [
    "print(\"prix moyen :\", requests[\"price\"].mean())"
   ]
  },
  {
   "cell_type": "code",
   "execution_count": 57,
   "metadata": {},
   "outputs": [
    {
     "data": {
      "image/png": "[encoded data removed]",
      "text/plain": [
       "<Figure size 432x288 with 1 Axes>"
      ]
     },
     "metadata": {
      "needs_background": "light"
     },
     "output_type": "display_data"
    }
   ],
   "source": [
    "requests[\"price\"].hist(bins=20)\n",
    "plt.title(\"Histogramme représentant le prix des hotels\")\n",
    "plt.show()"
   ]
  },
  {
   "cell_type": "code",
   "execution_count": 56,
   "metadata": {},
   "outputs": [
    {
     "data": {
      "text/plain": [
       "<matplotlib.axes._subplots.AxesSubplot at 0x2053887e348>"
      ]
     },
     "execution_count": 56,
     "metadata": {},
     "output_type": "execute_result"
    },
    {
     "data": {
      "image/png": "[encoded data removed]",
      "text/plain": [
       "<Figure size 720x288 with 4 Axes>"
      ]
     },
     "metadata": {
      "needs_background": "light"
     },
     "output_type": "display_data"
    }
   ],
   "source": [
    "_, axes = plt.subplots(1, 4, sharey=True, figsize=(10, 4))\n",
    "sns.boxplot(x='pool', y='price', data=requests,ax=axes[0])\n",
    "sns.boxplot(x='parking', y='price', data=requests,ax=axes[1])\n",
    "sns.boxplot(x='mobile', y='price', data=requests,ax=axes[2])\n",
    "sns.boxplot(x='children_policy', y='price', data=requests,ax=axes[3])"
   ]
  },
  {
   "cell_type": "code",
   "execution_count": 50,
   "metadata": {},
   "outputs": [
    {
     "data": {
      "text/plain": [
       "<matplotlib.axes._subplots.AxesSubplot at 0x205351cab88>"
      ]
     },
     "execution_count": 50,
     "metadata": {},
     "output_type": "execute_result"
    },
    {
     "data": {
      "image/png": "[encoded data removed]",
      "text/plain": [
       "<Figure size 432x288 with 1 Axes>"
      ]
     },
     "metadata": {
      "needs_background": "light"
     },
     "output_type": "display_data"
    }
   ],
   "source": [
    "sns.boxplot(x='city', y='price', data=requests)"
   ]
  },
  {
   "cell_type": "code",
   "execution_count": 14,
   "metadata": {},
   "outputs": [
    {
     "data": {
      "text/plain": [
       "<matplotlib.axes._subplots.AxesSubplot at 0x1d919b06088>"
      ]
     },
     "execution_count": 14,
     "metadata": {},
     "output_type": "execute_result"
    },
    {
     "data": {
      "image/png": "[encoded data removed]",
      "text/plain": [
       "<Figure size 432x288 with 1 Axes>"
      ]
     },
     "metadata": {
      "needs_background": "light"
     },
     "output_type": "display_data"
    }
   ],
   "source": [
    "sns.boxplot(x='language', y='price', data=requests)"
   ]
  },
  {
   "cell_type": "code",
   "execution_count": 44,
   "metadata": {},
   "outputs": [
    {
     "data": {
      "text/plain": [
       "<matplotlib.collections.PathCollection at 0x2052f8a3c88>"
      ]
     },
     "execution_count": 44,
     "metadata": {},
     "output_type": "execute_result"
    },
    {
     "data": {
      "image/png": "[encoded data removed]",
      "text/plain": [
       "<Figure size 432x288 with 1 Axes>"
      ]
     },
     "metadata": {
      "needs_background": "light"
     },
     "output_type": "display_data"
    }
   ],
   "source": [
    "#pas incroyable\n",
    "plt.scatter(requests['date'], requests['price'])\n",
    "#plt.axis([0, 30,0, 350])"
   ]
  },
  {
   "cell_type": "markdown",
   "metadata": {},
   "source": [
    "## AFCM (Analyse Factorielle des Correspondances Multiples)"
   ]
  },
  {
   "cell_type": "code",
   "execution_count": 36,
   "metadata": {},
   "outputs": [
    {
     "data": {
      "text/html": [
       "<div>\n",
       "<style scoped>\n",
       "    .dataframe tbody tr th:only-of-type {\n",
       "        vertical-align: middle;\n",
       "    }\n",
       "\n",
       "    .dataframe tbody tr th {\n",
       "        vertical-align: top;\n",
       "    }\n",
       "\n",
       "    .dataframe thead th {\n",
       "        text-align: right;\n",
       "    }\n",
       "</style>\n",
       "<table border=\"1\" class=\"dataframe\">\n",
       "  <thead>\n",
       "    <tr style=\"text-align: right;\">\n",
       "      <th></th>\n",
       "      <th>group</th>\n",
       "      <th>brand</th>\n",
       "      <th>city</th>\n",
       "      <th>parking</th>\n",
       "      <th>pool</th>\n",
       "      <th>children_policy</th>\n",
       "      <th>price</th>\n",
       "      <th>stock</th>\n",
       "      <th>date</th>\n",
       "      <th>language</th>\n",
       "      <th>mobile</th>\n",
       "      <th>avatar_name</th>\n",
       "    </tr>\n",
       "    <tr>\n",
       "      <th>hotel_id</th>\n",
       "      <th></th>\n",
       "      <th></th>\n",
       "      <th></th>\n",
       "      <th></th>\n",
       "      <th></th>\n",
       "      <th></th>\n",
       "      <th></th>\n",
       "      <th></th>\n",
       "      <th></th>\n",
       "      <th></th>\n",
       "      <th></th>\n",
       "      <th></th>\n",
       "    </tr>\n",
       "  </thead>\n",
       "  <tbody>\n",
       "    <tr>\n",
       "      <th>519</th>\n",
       "      <td>Yin Yang</td>\n",
       "      <td>Royal Lotus</td>\n",
       "      <td>copenhagen</td>\n",
       "      <td>0</td>\n",
       "      <td>0</td>\n",
       "      <td>0</td>\n",
       "      <td>208</td>\n",
       "      <td>68</td>\n",
       "      <td>30</td>\n",
       "      <td>french</td>\n",
       "      <td>0</td>\n",
       "      <td>laulau</td>\n",
       "    </tr>\n",
       "    <tr>\n",
       "      <th>523</th>\n",
       "      <td>Independant</td>\n",
       "      <td>Independant</td>\n",
       "      <td>copenhagen</td>\n",
       "      <td>0</td>\n",
       "      <td>0</td>\n",
       "      <td>0</td>\n",
       "      <td>85</td>\n",
       "      <td>41</td>\n",
       "      <td>30</td>\n",
       "      <td>french</td>\n",
       "      <td>0</td>\n",
       "      <td>laulau</td>\n",
       "    </tr>\n",
       "    <tr>\n",
       "      <th>898</th>\n",
       "      <td>Yin Yang</td>\n",
       "      <td>8 Premium</td>\n",
       "      <td>copenhagen</td>\n",
       "      <td>1</td>\n",
       "      <td>0</td>\n",
       "      <td>0</td>\n",
       "      <td>86</td>\n",
       "      <td>24</td>\n",
       "      <td>30</td>\n",
       "      <td>french</td>\n",
       "      <td>0</td>\n",
       "      <td>laulau</td>\n",
       "    </tr>\n",
       "    <tr>\n",
       "      <th>770</th>\n",
       "      <td>Morriott International</td>\n",
       "      <td>Morriot</td>\n",
       "      <td>copenhagen</td>\n",
       "      <td>1</td>\n",
       "      <td>1</td>\n",
       "      <td>0</td>\n",
       "      <td>210</td>\n",
       "      <td>73</td>\n",
       "      <td>30</td>\n",
       "      <td>french</td>\n",
       "      <td>0</td>\n",
       "      <td>laulau</td>\n",
       "    </tr>\n",
       "    <tr>\n",
       "      <th>562</th>\n",
       "      <td>Chillton Worldwide</td>\n",
       "      <td>Quadrupletree</td>\n",
       "      <td>copenhagen</td>\n",
       "      <td>0</td>\n",
       "      <td>0</td>\n",
       "      <td>0</td>\n",
       "      <td>215</td>\n",
       "      <td>74</td>\n",
       "      <td>30</td>\n",
       "      <td>french</td>\n",
       "      <td>0</td>\n",
       "      <td>laulau</td>\n",
       "    </tr>\n",
       "  </tbody>\n",
       "</table>\n",
       "</div>"
      ],
      "text/plain": [
       "                           group          brand        city  parking  pool  \\\n",
       "hotel_id                                                                     \n",
       "519                     Yin Yang    Royal Lotus  copenhagen        0     0   \n",
       "523                  Independant    Independant  copenhagen        0     0   \n",
       "898                     Yin Yang      8 Premium  copenhagen        1     0   \n",
       "770       Morriott International        Morriot  copenhagen        1     1   \n",
       "562           Chillton Worldwide  Quadrupletree  copenhagen        0     0   \n",
       "\n",
       "          children_policy  price  stock  date language  mobile avatar_name  \n",
       "hotel_id                                                                    \n",
       "519                     0    208     68    30   french       0      laulau  \n",
       "523                     0     85     41    30   french       0      laulau  \n",
       "898                     0     86     24    30   french       0      laulau  \n",
       "770                     0    210     73    30   french       0      laulau  \n",
       "562                     0    215     74    30   french       0      laulau  "
      ]
     },
     "execution_count": 36,
     "metadata": {},
     "output_type": "execute_result"
    }
   ],
   "source": [
    "# on travaille ici sur des données plus petites car s'il y en a trop on a pas assez d'espace pour tout stocker\n",
    "# ça permet tout de même de donner une idée des liens entre les différentes variables\n",
    "requests=pd.read_csv(\"laulau_data.csv\",sep=\",\",header=0)\n",
    "requests.index=requests['hotel_id']\n",
    "requests=requests.drop(['Unnamed: 0'], axis=1)\n",
    "requests=requests.drop(['index'], axis=1)\n",
    "requests=requests.drop(['hotel_id'],axis=1)\n",
    "requests.head()"
   ]
  },
  {
   "cell_type": "code",
   "execution_count": 31,
   "metadata": {},
   "outputs": [
    {
     "data": {
      "text/html": [
       "<div>\n",
       "<style scoped>\n",
       "    .dataframe tbody tr th:only-of-type {\n",
       "        vertical-align: middle;\n",
       "    }\n",
       "\n",
       "    .dataframe tbody tr th {\n",
       "        vertical-align: top;\n",
       "    }\n",
       "\n",
       "    .dataframe thead th {\n",
       "        text-align: right;\n",
       "    }\n",
       "</style>\n",
       "<table border=\"1\" class=\"dataframe\">\n",
       "  <thead>\n",
       "    <tr style=\"text-align: right;\">\n",
       "      <th></th>\n",
       "      <th>index</th>\n",
       "      <th>hotel_id</th>\n",
       "      <th>city</th>\n",
       "      <th>parking</th>\n",
       "      <th>pool</th>\n",
       "      <th>children_policy</th>\n",
       "      <th>language</th>\n",
       "      <th>mobile</th>\n",
       "      <th>categ_price</th>\n",
       "      <th>categ_stock</th>\n",
       "      <th>categ_date</th>\n",
       "    </tr>\n",
       "    <tr>\n",
       "      <th>hotel_id</th>\n",
       "      <th></th>\n",
       "      <th></th>\n",
       "      <th></th>\n",
       "      <th></th>\n",
       "      <th></th>\n",
       "      <th></th>\n",
       "      <th></th>\n",
       "      <th></th>\n",
       "      <th></th>\n",
       "      <th></th>\n",
       "      <th></th>\n",
       "    </tr>\n",
       "  </thead>\n",
       "  <tbody>\n",
       "    <tr>\n",
       "      <th>519</th>\n",
       "      <td>519</td>\n",
       "      <td>519</td>\n",
       "      <td>copenhagen</td>\n",
       "      <td>0</td>\n",
       "      <td>0</td>\n",
       "      <td>0</td>\n",
       "      <td>french</td>\n",
       "      <td>0</td>\n",
       "      <td>high_price</td>\n",
       "      <td>high_stock</td>\n",
       "      <td>far_date</td>\n",
       "    </tr>\n",
       "    <tr>\n",
       "      <th>523</th>\n",
       "      <td>523</td>\n",
       "      <td>523</td>\n",
       "      <td>copenhagen</td>\n",
       "      <td>0</td>\n",
       "      <td>0</td>\n",
       "      <td>0</td>\n",
       "      <td>french</td>\n",
       "      <td>0</td>\n",
       "      <td>low_price</td>\n",
       "      <td>low_stock</td>\n",
       "      <td>far_date</td>\n",
       "    </tr>\n",
       "    <tr>\n",
       "      <th>898</th>\n",
       "      <td>898</td>\n",
       "      <td>898</td>\n",
       "      <td>copenhagen</td>\n",
       "      <td>1</td>\n",
       "      <td>0</td>\n",
       "      <td>0</td>\n",
       "      <td>french</td>\n",
       "      <td>0</td>\n",
       "      <td>low_price</td>\n",
       "      <td>low_stock</td>\n",
       "      <td>far_date</td>\n",
       "    </tr>\n",
       "    <tr>\n",
       "      <th>770</th>\n",
       "      <td>770</td>\n",
       "      <td>770</td>\n",
       "      <td>copenhagen</td>\n",
       "      <td>1</td>\n",
       "      <td>1</td>\n",
       "      <td>0</td>\n",
       "      <td>french</td>\n",
       "      <td>0</td>\n",
       "      <td>high_price</td>\n",
       "      <td>high_stock</td>\n",
       "      <td>far_date</td>\n",
       "    </tr>\n",
       "    <tr>\n",
       "      <th>562</th>\n",
       "      <td>562</td>\n",
       "      <td>562</td>\n",
       "      <td>copenhagen</td>\n",
       "      <td>0</td>\n",
       "      <td>0</td>\n",
       "      <td>0</td>\n",
       "      <td>french</td>\n",
       "      <td>0</td>\n",
       "      <td>high_price</td>\n",
       "      <td>high_stock</td>\n",
       "      <td>far_date</td>\n",
       "    </tr>\n",
       "    <tr>\n",
       "      <th>...</th>\n",
       "      <td>...</td>\n",
       "      <td>...</td>\n",
       "      <td>...</td>\n",
       "      <td>...</td>\n",
       "      <td>...</td>\n",
       "      <td>...</td>\n",
       "      <td>...</td>\n",
       "      <td>...</td>\n",
       "      <td>...</td>\n",
       "      <td>...</td>\n",
       "      <td>...</td>\n",
       "    </tr>\n",
       "    <tr>\n",
       "      <th>498</th>\n",
       "      <td>498</td>\n",
       "      <td>498</td>\n",
       "      <td>vilnius</td>\n",
       "      <td>0</td>\n",
       "      <td>0</td>\n",
       "      <td>0</td>\n",
       "      <td>czech</td>\n",
       "      <td>1</td>\n",
       "      <td>medium_price</td>\n",
       "      <td>low_stock</td>\n",
       "      <td>far_date</td>\n",
       "    </tr>\n",
       "    <tr>\n",
       "      <th>516</th>\n",
       "      <td>516</td>\n",
       "      <td>516</td>\n",
       "      <td>vilnius</td>\n",
       "      <td>1</td>\n",
       "      <td>0</td>\n",
       "      <td>2</td>\n",
       "      <td>czech</td>\n",
       "      <td>1</td>\n",
       "      <td>high_price</td>\n",
       "      <td>high_stock</td>\n",
       "      <td>far_date</td>\n",
       "    </tr>\n",
       "    <tr>\n",
       "      <th>187</th>\n",
       "      <td>187</td>\n",
       "      <td>187</td>\n",
       "      <td>vilnius</td>\n",
       "      <td>1</td>\n",
       "      <td>1</td>\n",
       "      <td>0</td>\n",
       "      <td>czech</td>\n",
       "      <td>1</td>\n",
       "      <td>high_price</td>\n",
       "      <td>high_stock</td>\n",
       "      <td>far_date</td>\n",
       "    </tr>\n",
       "    <tr>\n",
       "      <th>687</th>\n",
       "      <td>687</td>\n",
       "      <td>687</td>\n",
       "      <td>vilnius</td>\n",
       "      <td>0</td>\n",
       "      <td>0</td>\n",
       "      <td>0</td>\n",
       "      <td>czech</td>\n",
       "      <td>1</td>\n",
       "      <td>medium_price</td>\n",
       "      <td>medium_stock</td>\n",
       "      <td>far_date</td>\n",
       "    </tr>\n",
       "    <tr>\n",
       "      <th>408</th>\n",
       "      <td>408</td>\n",
       "      <td>408</td>\n",
       "      <td>vilnius</td>\n",
       "      <td>1</td>\n",
       "      <td>0</td>\n",
       "      <td>0</td>\n",
       "      <td>czech</td>\n",
       "      <td>1</td>\n",
       "      <td>medium_price</td>\n",
       "      <td>medium_stock</td>\n",
       "      <td>far_date</td>\n",
       "    </tr>\n",
       "  </tbody>\n",
       "</table>\n",
       "<p>940 rows × 11 columns</p>\n",
       "</div>"
      ],
      "text/plain": [
       "          index  hotel_id        city parking pool children_policy language  \\\n",
       "hotel_id                                                                      \n",
       "519         519       519  copenhagen       0    0               0   french   \n",
       "523         523       523  copenhagen       0    0               0   french   \n",
       "898         898       898  copenhagen       1    0               0   french   \n",
       "770         770       770  copenhagen       1    1               0   french   \n",
       "562         562       562  copenhagen       0    0               0   french   \n",
       "...         ...       ...         ...     ...  ...             ...      ...   \n",
       "498         498       498     vilnius       0    0               0    czech   \n",
       "516         516       516     vilnius       1    0               2    czech   \n",
       "187         187       187     vilnius       1    1               0    czech   \n",
       "687         687       687     vilnius       0    0               0    czech   \n",
       "408         408       408     vilnius       1    0               0    czech   \n",
       "\n",
       "         mobile   categ_price   categ_stock categ_date  \n",
       "hotel_id                                                \n",
       "519           0    high_price    high_stock   far_date  \n",
       "523           0     low_price     low_stock   far_date  \n",
       "898           0     low_price     low_stock   far_date  \n",
       "770           0    high_price    high_stock   far_date  \n",
       "562           0    high_price    high_stock   far_date  \n",
       "...         ...           ...           ...        ...  \n",
       "498           1  medium_price     low_stock   far_date  \n",
       "516           1    high_price    high_stock   far_date  \n",
       "187           1    high_price    high_stock   far_date  \n",
       "687           1  medium_price  medium_stock   far_date  \n",
       "408           1  medium_price  medium_stock   far_date  \n",
       "\n",
       "[940 rows x 11 columns]"
      ]
     },
     "execution_count": 31,
     "metadata": {},
     "output_type": "execute_result"
    }
   ],
   "source": [
    "# on transforme le prix de l'hotel en variables catégorielle à l'aide des quantiles d'ordre 0.33 et 0.66\n",
    "quant_price=np.quantile(requests['price'],[0.33,0.66])\n",
    "data_afcm=requests.assign(categ_price=\"medium_price\")\n",
    "data_afcm.loc[data_afcm.price<=quant_price[0],'categ_price']='low_price'\n",
    "data_afcm.loc[data_afcm.price>=quant_price[1],'categ_price']='high_price'\n",
    "data_afcm=data_afcm.drop(['price'], axis=1)\n",
    "\n",
    "quant_stock=np.quantile(requests['stock'],[0.33,0.66])\n",
    "data_afcm=data_afcm.assign(categ_stock=\"medium_stock\")\n",
    "data_afcm.loc[data_afcm.stock<=quant_stock[0],'categ_stock']='low_stock'\n",
    "data_afcm.loc[data_afcm.stock>=quant_stock[1],'categ_stock']='high_stock'\n",
    "data_afcm=data_afcm.drop(['stock'], axis=1)\n",
    "\n",
    "\n",
    "quant_date=np.quantile(requests['date'],[0.33,0.66])\n",
    "data_afcm=data_afcm.assign(categ_date=\"medium_date\")\n",
    "data_afcm.loc[data_afcm.date<=quant_date[0],'categ_date']='near_date'\n",
    "data_afcm.loc[data_afcm.date>=quant_date[1],'categ_date']='far_date'\n",
    "data_afcm=data_afcm.drop(['date'], axis=1)\n",
    "\n",
    "data_afcm=data_afcm.drop(['group'], axis=1)\n",
    "data_afcm=data_afcm.drop(['brand'], axis=1)\n",
    "data_afcm=data_afcm.drop(['avatar_name'], axis=1)\n",
    "\n",
    "data_afcm[\"categ_price\"]=pd.Categorical(data_afcm[\"categ_price\"],ordered=False)\n",
    "#data_afcm[\"categ_stock\"]=pd.Categorical(data_afcm[\"categ_stock\"],ordered=False)\n",
    "data_afcm[\"categ_date\"]=pd.Categorical(data_afcm[\"categ_date\"],ordered=False)\n",
    "data_afcm[\"parking\"]=pd.Categorical(data_afcm[\"parking\"],ordered=False)\n",
    "data_afcm[\"pool\"]=pd.Categorical(data_afcm[\"pool\"],ordered=False)\n",
    "data_afcm[\"children_policy\"]=pd.Categorical(data_afcm[\"children_policy\"],ordered=False)\n",
    "data_afcm[\"language\"]=pd.Categorical(data_afcm[\"language\"],ordered=False)\n",
    "data_afcm[\"mobile\"]=pd.Categorical(data_afcm[\"mobile\"],ordered=False)\n",
    "data_afcm[\"city\"]=pd.Categorical(data_afcm[\"city\"],ordered=False)\n",
    "\n",
    "data_afcm"
   ]
  },
  {
   "cell_type": "code",
   "execution_count": 32,
   "metadata": {},
   "outputs": [
    {
     "data": {
      "text/html": [
       "<div>\n",
       "<style scoped>\n",
       "    .dataframe tbody tr th:only-of-type {\n",
       "        vertical-align: middle;\n",
       "    }\n",
       "\n",
       "    .dataframe tbody tr th {\n",
       "        vertical-align: top;\n",
       "    }\n",
       "\n",
       "    .dataframe thead th {\n",
       "        text-align: right;\n",
       "    }\n",
       "</style>\n",
       "<table border=\"1\" class=\"dataframe\">\n",
       "  <thead>\n",
       "    <tr style=\"text-align: right;\">\n",
       "      <th></th>\n",
       "      <th>index</th>\n",
       "      <th>hotel_id</th>\n",
       "      <th>city_copenhagen</th>\n",
       "      <th>city_madrid</th>\n",
       "      <th>city_valletta</th>\n",
       "      <th>city_vilnius</th>\n",
       "      <th>parking_0</th>\n",
       "      <th>parking_1</th>\n",
       "      <th>pool_0</th>\n",
       "      <th>pool_1</th>\n",
       "      <th>...</th>\n",
       "      <th>language_french</th>\n",
       "      <th>mobile_0</th>\n",
       "      <th>mobile_1</th>\n",
       "      <th>categ_price_high_price</th>\n",
       "      <th>categ_price_low_price</th>\n",
       "      <th>categ_price_medium_price</th>\n",
       "      <th>categ_stock_high_stock</th>\n",
       "      <th>categ_stock_low_stock</th>\n",
       "      <th>categ_stock_medium_stock</th>\n",
       "      <th>categ_date_far_date</th>\n",
       "    </tr>\n",
       "    <tr>\n",
       "      <th>hotel_id</th>\n",
       "      <th></th>\n",
       "      <th></th>\n",
       "      <th></th>\n",
       "      <th></th>\n",
       "      <th></th>\n",
       "      <th></th>\n",
       "      <th></th>\n",
       "      <th></th>\n",
       "      <th></th>\n",
       "      <th></th>\n",
       "      <th></th>\n",
       "      <th></th>\n",
       "      <th></th>\n",
       "      <th></th>\n",
       "      <th></th>\n",
       "      <th></th>\n",
       "      <th></th>\n",
       "      <th></th>\n",
       "      <th></th>\n",
       "      <th></th>\n",
       "      <th></th>\n",
       "    </tr>\n",
       "  </thead>\n",
       "  <tbody>\n",
       "    <tr>\n",
       "      <th>519</th>\n",
       "      <td>519</td>\n",
       "      <td>519</td>\n",
       "      <td>1</td>\n",
       "      <td>0</td>\n",
       "      <td>0</td>\n",
       "      <td>0</td>\n",
       "      <td>1</td>\n",
       "      <td>0</td>\n",
       "      <td>1</td>\n",
       "      <td>0</td>\n",
       "      <td>...</td>\n",
       "      <td>1</td>\n",
       "      <td>1</td>\n",
       "      <td>0</td>\n",
       "      <td>1</td>\n",
       "      <td>0</td>\n",
       "      <td>0</td>\n",
       "      <td>1</td>\n",
       "      <td>0</td>\n",
       "      <td>0</td>\n",
       "      <td>1</td>\n",
       "    </tr>\n",
       "    <tr>\n",
       "      <th>523</th>\n",
       "      <td>523</td>\n",
       "      <td>523</td>\n",
       "      <td>1</td>\n",
       "      <td>0</td>\n",
       "      <td>0</td>\n",
       "      <td>0</td>\n",
       "      <td>1</td>\n",
       "      <td>0</td>\n",
       "      <td>1</td>\n",
       "      <td>0</td>\n",
       "      <td>...</td>\n",
       "      <td>1</td>\n",
       "      <td>1</td>\n",
       "      <td>0</td>\n",
       "      <td>0</td>\n",
       "      <td>1</td>\n",
       "      <td>0</td>\n",
       "      <td>0</td>\n",
       "      <td>1</td>\n",
       "      <td>0</td>\n",
       "      <td>1</td>\n",
       "    </tr>\n",
       "    <tr>\n",
       "      <th>898</th>\n",
       "      <td>898</td>\n",
       "      <td>898</td>\n",
       "      <td>1</td>\n",
       "      <td>0</td>\n",
       "      <td>0</td>\n",
       "      <td>0</td>\n",
       "      <td>0</td>\n",
       "      <td>1</td>\n",
       "      <td>1</td>\n",
       "      <td>0</td>\n",
       "      <td>...</td>\n",
       "      <td>1</td>\n",
       "      <td>1</td>\n",
       "      <td>0</td>\n",
       "      <td>0</td>\n",
       "      <td>1</td>\n",
       "      <td>0</td>\n",
       "      <td>0</td>\n",
       "      <td>1</td>\n",
       "      <td>0</td>\n",
       "      <td>1</td>\n",
       "    </tr>\n",
       "    <tr>\n",
       "      <th>770</th>\n",
       "      <td>770</td>\n",
       "      <td>770</td>\n",
       "      <td>1</td>\n",
       "      <td>0</td>\n",
       "      <td>0</td>\n",
       "      <td>0</td>\n",
       "      <td>0</td>\n",
       "      <td>1</td>\n",
       "      <td>0</td>\n",
       "      <td>1</td>\n",
       "      <td>...</td>\n",
       "      <td>1</td>\n",
       "      <td>1</td>\n",
       "      <td>0</td>\n",
       "      <td>1</td>\n",
       "      <td>0</td>\n",
       "      <td>0</td>\n",
       "      <td>1</td>\n",
       "      <td>0</td>\n",
       "      <td>0</td>\n",
       "      <td>1</td>\n",
       "    </tr>\n",
       "    <tr>\n",
       "      <th>562</th>\n",
       "      <td>562</td>\n",
       "      <td>562</td>\n",
       "      <td>1</td>\n",
       "      <td>0</td>\n",
       "      <td>0</td>\n",
       "      <td>0</td>\n",
       "      <td>1</td>\n",
       "      <td>0</td>\n",
       "      <td>1</td>\n",
       "      <td>0</td>\n",
       "      <td>...</td>\n",
       "      <td>1</td>\n",
       "      <td>1</td>\n",
       "      <td>0</td>\n",
       "      <td>1</td>\n",
       "      <td>0</td>\n",
       "      <td>0</td>\n",
       "      <td>1</td>\n",
       "      <td>0</td>\n",
       "      <td>0</td>\n",
       "      <td>1</td>\n",
       "    </tr>\n",
       "  </tbody>\n",
       "</table>\n",
       "<p>5 rows × 27 columns</p>\n",
       "</div>"
      ],
      "text/plain": [
       "          index  hotel_id  city_copenhagen  city_madrid  city_valletta  \\\n",
       "hotel_id                                                                 \n",
       "519         519       519                1            0              0   \n",
       "523         523       523                1            0              0   \n",
       "898         898       898                1            0              0   \n",
       "770         770       770                1            0              0   \n",
       "562         562       562                1            0              0   \n",
       "\n",
       "          city_vilnius  parking_0  parking_1  pool_0  pool_1  ...  \\\n",
       "hotel_id                                                      ...   \n",
       "519                  0          1          0       1       0  ...   \n",
       "523                  0          1          0       1       0  ...   \n",
       "898                  0          0          1       1       0  ...   \n",
       "770                  0          0          1       0       1  ...   \n",
       "562                  0          1          0       1       0  ...   \n",
       "\n",
       "          language_french  mobile_0  mobile_1  categ_price_high_price  \\\n",
       "hotel_id                                                                \n",
       "519                     1         1         0                       1   \n",
       "523                     1         1         0                       0   \n",
       "898                     1         1         0                       0   \n",
       "770                     1         1         0                       1   \n",
       "562                     1         1         0                       1   \n",
       "\n",
       "          categ_price_low_price  categ_price_medium_price  \\\n",
       "hotel_id                                                    \n",
       "519                           0                         0   \n",
       "523                           1                         0   \n",
       "898                           1                         0   \n",
       "770                           0                         0   \n",
       "562                           0                         0   \n",
       "\n",
       "          categ_stock_high_stock  categ_stock_low_stock  \\\n",
       "hotel_id                                                  \n",
       "519                            1                      0   \n",
       "523                            0                      1   \n",
       "898                            0                      1   \n",
       "770                            1                      0   \n",
       "562                            1                      0   \n",
       "\n",
       "          categ_stock_medium_stock  categ_date_far_date  \n",
       "hotel_id                                                 \n",
       "519                              0                    1  \n",
       "523                              0                    1  \n",
       "898                              0                    1  \n",
       "770                              0                    1  \n",
       "562                              0                    1  \n",
       "\n",
       "[5 rows x 27 columns]"
      ]
     },
     "execution_count": 32,
     "metadata": {},
     "output_type": "execute_result"
    }
   ],
   "source": [
    "dc=pd.DataFrame(pd.get_dummies(data_afcm))\n",
    "dc.head()"
   ]
  },
  {
   "cell_type": "code",
   "execution_count": 33,
   "metadata": {},
   "outputs": [],
   "source": [
    "mcaFic=MCA(dc,benzecri=False)"
   ]
  },
  {
   "cell_type": "code",
   "execution_count": 34,
   "metadata": {},
   "outputs": [
    {
     "data": {
      "image/png": "[encoded data removed]",
      "text/plain": [
       "<Figure size 1440x720 with 1 Axes>"
      ]
     },
     "metadata": {
      "needs_background": "light"
     },
     "output_type": "display_data"
    }
   ],
   "source": [
    "fig = plt.figure(1, figsize=(20, 10))\n",
    "plt.scatter(mcaFic.fs_c()[:, 0],mcaFic.fs_c()[:, 1])\n",
    "for i, j, nom in zip(mcaFic.fs_c()[:, 0],mcaFic.fs_c()[:, 1], dc.columns):\n",
    "       plt.text(i, j, nom)\n",
    "plt.title(\"Analyse Factorielle des Correspondances Multiples\")\n",
    "plt.show()"
   ]
  }
 ],
 "metadata": {
  "kernelspec": {
   "display_name": "Python 3",
   "language": "python",
   "name": "python3"
  },
  "language_info": {
   "codemirror_mode": {
    "name": "ipython",
    "version": 3
   },
   "file_extension": ".py",
   "mimetype": "text/x-python",
   "name": "python",
   "nbconvert_exporter": "python",
   "pygments_lexer": "ipython3",
   "version": "3.7.4"
  }
 },
 "nbformat": 4,
 "nbformat_minor": 2
}
