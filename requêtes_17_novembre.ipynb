{
 "cells": [
  {
   "cell_type": "code",
   "execution_count": 13,
   "id": "c85cb7b4",
   "metadata": {},
   "outputs": [],
   "source": [
    "import numpy as np"
   ]
  },
  {
   "cell_type": "code",
   "execution_count": null,
   "id": "b0a47a3b",
   "metadata": {},
   "outputs": [],
   "source": [
    "avatar_name = ['avatar_35']\n",
    "cities = ['amsterdam','copenhagen','paris']\n",
    "languages = ['langue_1','langue_2']\n",
    "mobiles = [1]\n",
    "dates = [38,37,36,35,34,33,32,31]"
   ]
  },
  {
   "cell_type": "code",
   "execution_count": null,
   "id": "939e63c9",
   "metadata": {},
   "outputs": [],
   "source": [
    "avatar_name = ['avatar_25']\n",
    "cities = ['paris','rome','sofia','vienna','vilnius']\n",
    "languages = ['langue_3','langue_4']\n",
    "mobiles = [0,1]\n",
    "dates = [31,30,29,28,27,26,25,24,23,22,21]"
   ]
  },
  {
   "cell_type": "code",
   "execution_count": null,
   "id": "82b6fc34",
   "metadata": {},
   "outputs": [],
   "source": [
    "avatar_name = ['avatar_15']\n",
    "cities = ['rome','vienna']\n",
    "languages = ['langue_5']\n",
    "mobiles = [0,1]\n",
    "dates = [20,19,18,17,15,14,13,12,11,10]"
   ]
  },
  {
   "cell_type": "code",
   "execution_count": null,
   "id": "f7c933e7",
   "metadata": {},
   "outputs": [],
   "source": [
    "avatar_name = ['avatar_5']\n",
    "cities = ['valletta','vienna','vilnius']\n",
    "languages = ['langue_1','langue_3']\n",
    "mobiles = [0]\n",
    "dates = [9,8,7,6,5,4,3,2,1]"
   ]
  },
  {
   "cell_type": "code",
   "execution_count": null,
   "id": "e9143780",
   "metadata": {},
   "outputs": [],
   "source": [
    "avatar_name = ['avatar_paris_rome']\n",
    "cities = ['paris','rome']\n",
    "languages = ['langue_2']\n",
    "mobiles = [1]\n",
    "dates = np.linspace(1,44,44)"
   ]
  },
  {
   "cell_type": "code",
   "execution_count": null,
   "id": "53571a5c",
   "metadata": {},
   "outputs": [],
   "source": [
    "avatar_name = ['all_city']\n",
    "cities = ['amsterdam','copenhagen','madrid','paris','rome','sofia','valletta','vienna','vilnius']\n",
    "languages = ['french']\n",
    "mobiles = [0,1]\n",
    "dates = [2,1]"
   ]
  },
  {
   "cell_type": "code",
   "execution_count": null,
   "id": "a6c53fec",
   "metadata": {},
   "outputs": [],
   "source": [
    "avatar_name = ['now_or_late']\n",
    "cities = ['valletta','vienna','copenhagen']\n",
    "languages = ['bulgarian']\n",
    "mobiles = [0,1]\n",
    "dates = [44,43,42,41,40,39,38,37,5,4,3,2,1]"
   ]
  },
  {
   "cell_type": "code",
   "execution_count": null,
   "id": "3475d304",
   "metadata": {},
   "outputs": [],
   "source": [
    "avatar_name = ['avatar_moyen']\n",
    "cities = ['amsterdam','copenhagen','madrid','sofia','valletta','vienna','vilnius']\n",
    "languages = ['swedish','finnish']\n",
    "mobiles = [0]\n",
    "dates = np.linspace(15,25,11)"
   ]
  },
  {
   "cell_type": "code",
   "execution_count": null,
   "id": "39d4a626",
   "metadata": {},
   "outputs": [],
   "source": [
    "avatar_name = ['avatar_40']\n",
    "cities = ['amsterdam','copenhagen','vienna','vilnius']\n",
    "languages = ['dutch']\n",
    "mobiles = [1]\n",
    "dates = [44,43,42,41,40]"
   ]
  },
  {
   "cell_type": "code",
   "execution_count": null,
   "id": "5ab79714",
   "metadata": {},
   "outputs": [],
   "source": [
    "avatar_name = ['avatar_now']\n",
    "cities = ['amsterdam','copenhagen','madrid','paris','rome','sofia','valletta','vienna','vilnius']\n",
    "languages = ['danish','french']\n",
    "mobiles = [0,1]\n",
    "dates = [1]"
   ]
  },
  {
   "cell_type": "code",
   "execution_count": null,
   "id": "ec14c4c9",
   "metadata": {},
   "outputs": [],
   "source": [
    "avatar_name = ['avatar_amsterdam']\n",
    "cities = ['amsterdam']\n",
    "languages = ['romanian']\n",
    "mobiles = [0,1]\n",
    "dates = np.linspace(1,15,15)"
   ]
  },
  {
   "cell_type": "code",
   "execution_count": null,
   "id": "adb7a4dc",
   "metadata": {},
   "outputs": [],
   "source": [
    "avatar_name = ['avatar_paris']\n",
    "cities = ['paris','valletta']\n",
    "languages = ['slovakian']\n",
    "mobiles = [1]\n",
    "dates = np.linspace(10,40,30)"
   ]
  },
  {
   "cell_type": "code",
   "execution_count": null,
   "id": "7809c67c",
   "metadata": {},
   "outputs": [],
   "source": [
    "avatar_name = ['avatar_madrid_vienna']\n",
    "cities = ['madrid']\n",
    "languages = ['luxembourgish']\n",
    "mobiles = [1]\n",
    "dates = np.linspace(30,44,14)"
   ]
  },
  {
   "cell_type": "code",
   "execution_count": null,
   "id": "93f13fb8",
   "metadata": {},
   "outputs": [],
   "source": [
    "avatar_name = ['avatar_madrid_vienna']\n",
    "cities = ['vienna']\n",
    "languages = ['maltese']\n",
    "mobiles = [0]\n",
    "dates = np.linspace(1,15,15)"
   ]
  },
  {
   "cell_type": "code",
   "execution_count": null,
   "id": "610776e7",
   "metadata": {},
   "outputs": [],
   "source": [
    "avatar_name = ['avatar_sofia_35']\n",
    "cities = ['sofia']\n",
    "languages = ['lithuanian']\n",
    "mobiles = [0,1]\n",
    "dates = np.linspace(30,40,11)"
   ]
  },
  {
   "cell_type": "code",
   "execution_count": null,
   "id": "0d89ca1d",
   "metadata": {},
   "outputs": [],
   "source": [
    "avatar_name = ['avatar_europe_soon']\n",
    "cities = ['amsterdam','copenhagen','sofia','valletta','vienna','vilnius']\n",
    "languages = ['czech']\n",
    "mobiles = [1]\n",
    "dates = np.linspace(1,10,10)"
   ]
  },
  {
   "cell_type": "code",
   "execution_count": 51,
   "id": "f7f885f3",
   "metadata": {},
   "outputs": [],
   "source": [
    "## nombre requêtes"
   ]
  },
  {
   "cell_type": "code",
   "execution_count": 12,
   "id": "95f5b8a4",
   "metadata": {},
   "outputs": [
    {
     "name": "stdout",
     "output_type": "stream",
     "text": [
      "28\n"
     ]
    }
   ],
   "source": [
    "avatar_name = ['avatar_35']\n",
    "cities = ['amsterdam','copenhagen']\n",
    "languages = ['langue_1','langue_2']\n",
    "mobiles = [1]\n",
    "dates = [38,37,36,35,34,33,32]\n",
    "combination=[]\n",
    "for count1,date in enumerate(dates):\n",
    "    for count2,city in enumerate(cities):\n",
    "        for count3,language in enumerate(languages):\n",
    "            for count4,mobile in enumerate(mobiles):\n",
    "                for count5,avatar in enumerate(avatar_name):\n",
    "                    combination.append((city,date,language,mobile))\n",
    "                    params = {\n",
    "                    \"avatar_name\": avatar,\n",
    "                    \"language\": language,\n",
    "                    \"city\": city,\n",
    "                    \"date\": date,\n",
    "                    \"mobile\": mobile,}\n",
    "print(len(combination))"
   ]
  },
  {
   "cell_type": "code",
   "execution_count": 7,
   "id": "63dce931",
   "metadata": {},
   "outputs": [
    {
     "name": "stdout",
     "output_type": "stream",
     "text": [
      "42\n"
     ]
    }
   ],
   "source": [
    "avatar_name = ['avatar_35']\n",
    "cities = ['amsterdam','copenhagen','paris']\n",
    "languages = ['langue_1','langue_2']\n",
    "mobiles = [1]\n",
    "dates = [38,37,36,35,34,33,32]\n",
    "combination=[]\n",
    "for count1,date in enumerate(dates):\n",
    "    for count2,city in enumerate(cities):\n",
    "        for count3,language in enumerate(languages):\n",
    "            for count4,mobile in enumerate(mobiles):\n",
    "                for count5,avatar in enumerate(avatar_name):\n",
    "                    combination.append((city,date,language,mobile))\n",
    "                    params = {\n",
    "                    \"avatar_name\": avatar,\n",
    "                    \"language\": language,\n",
    "                    \"city\": city,\n",
    "                    \"date\": date,\n",
    "                    \"mobile\": mobile,}\n",
    "print(len(combination))"
   ]
  },
  {
   "cell_type": "code",
   "execution_count": 8,
   "id": "5b3d7ae2",
   "metadata": {},
   "outputs": [
    {
     "name": "stdout",
     "output_type": "stream",
     "text": [
      "220\n"
     ]
    }
   ],
   "source": [
    "avatar_name = ['avatar_25']\n",
    "cities = ['paris','rome','sofia','vienna','vilnius']\n",
    "languages = ['langue_3','langue_4']\n",
    "mobiles = [0,1]\n",
    "dates = [31,30,29,28,27,26,25,24,23,22,21]\n",
    "combination=[]\n",
    "for count1,date in enumerate(dates):\n",
    "    for count2,city in enumerate(cities):\n",
    "        for count3,language in enumerate(languages):\n",
    "            for count4,mobile in enumerate(mobiles):\n",
    "                for count5,avatar in enumerate(avatar_name):\n",
    "                    combination.append((city,date,language,mobile))\n",
    "                    params = {\n",
    "                    \"avatar_name\": avatar,\n",
    "                    \"language\": language,\n",
    "                    \"city\": city,\n",
    "                    \"date\": date,\n",
    "                    \"mobile\": mobile,}\n",
    "print(len(combination))"
   ]
  },
  {
   "cell_type": "code",
   "execution_count": 9,
   "id": "e168570b",
   "metadata": {},
   "outputs": [
    {
     "name": "stdout",
     "output_type": "stream",
     "text": [
      "40\n"
     ]
    }
   ],
   "source": [
    "avatar_name = ['avatar_15']\n",
    "cities = ['rome','vienna']\n",
    "languages = ['langue_5']\n",
    "mobiles = [0,1]\n",
    "dates = [20,19,18,17,15,14,13,12,11,10]\n",
    "combination=[]\n",
    "for count1,date in enumerate(dates):\n",
    "    for count2,city in enumerate(cities):\n",
    "        for count3,language in enumerate(languages):\n",
    "            for count4,mobile in enumerate(mobiles):\n",
    "                for count5,avatar in enumerate(avatar_name):\n",
    "                    combination.append((city,date,language,mobile))\n",
    "                    params = {\n",
    "                    \"avatar_name\": avatar,\n",
    "                    \"language\": language,\n",
    "                    \"city\": city,\n",
    "                    \"date\": date,\n",
    "                    \"mobile\": mobile,}\n",
    "print(len(combination))"
   ]
  },
  {
   "cell_type": "code",
   "execution_count": 10,
   "id": "a81f73b7",
   "metadata": {},
   "outputs": [
    {
     "name": "stdout",
     "output_type": "stream",
     "text": [
      "54\n"
     ]
    }
   ],
   "source": [
    "avatar_name = ['avatar_5']\n",
    "cities = ['valletta','vienna','vilnius']\n",
    "languages = ['langue_1','langue_3']\n",
    "mobiles = [0]\n",
    "dates = [9,8,7,6,5,4,3,2,1]\n",
    "combination=[]\n",
    "for count1,date in enumerate(dates):\n",
    "    for count2,city in enumerate(cities):\n",
    "        for count3,language in enumerate(languages):\n",
    "            for count4,mobile in enumerate(mobiles):\n",
    "                for count5,avatar in enumerate(avatar_name):\n",
    "                    combination.append((city,date,language,mobile))\n",
    "                    params = {\n",
    "                    \"avatar_name\": avatar,\n",
    "                    \"language\": language,\n",
    "                    \"city\": city,\n",
    "                    \"date\": date,\n",
    "                    \"mobile\": mobile,}\n",
    "print(len(combination))"
   ]
  },
  {
   "cell_type": "code",
   "execution_count": 33,
   "id": "28843a09",
   "metadata": {},
   "outputs": [
    {
     "name": "stdout",
     "output_type": "stream",
     "text": [
      "88\n"
     ]
    }
   ],
   "source": [
    "avatar_name = ['avatar_paris_rome']\n",
    "cities = ['paris','rome']\n",
    "languages = ['langue_2']\n",
    "mobiles = [1]\n",
    "dates = np.linspace(1,44,44)\n",
    "combination=[]\n",
    "for count1,date in enumerate(dates):\n",
    "    for count2,city in enumerate(cities):\n",
    "        for count3,language in enumerate(languages):\n",
    "            for count4,mobile in enumerate(mobiles):\n",
    "                for count5,avatar in enumerate(avatar_name):\n",
    "                    combination.append((city,date,language,mobile))\n",
    "                    params = {\n",
    "                    \"avatar_name\": avatar,\n",
    "                    \"language\": language,\n",
    "                    \"city\": city,\n",
    "                    \"date\": date,\n",
    "                    \"mobile\": mobile,}\n",
    "print(len(combination))"
   ]
  },
  {
   "cell_type": "code",
   "execution_count": 31,
   "id": "cecf72f9",
   "metadata": {},
   "outputs": [
    {
     "name": "stdout",
     "output_type": "stream",
     "text": [
      "36\n"
     ]
    }
   ],
   "source": [
    "avatar_name = ['all_city']\n",
    "cities = ['amsterdam','copenhagen','madrid','paris','rome','sofia','valletta','vienna','vilnius']\n",
    "languages = ['french']\n",
    "mobiles = [0,1]\n",
    "dates = [2,1]\n",
    "combination=[]\n",
    "for count1,date in enumerate(dates):\n",
    "    for count2,city in enumerate(cities):\n",
    "        for count3,language in enumerate(languages):\n",
    "            for count4,mobile in enumerate(mobiles):\n",
    "                for count5,avatar in enumerate(avatar_name):\n",
    "                    combination.append((city,date,language,mobile))\n",
    "                    params = {\n",
    "                    \"avatar_name\": avatar,\n",
    "                    \"language\": language,\n",
    "                    \"city\": city,\n",
    "                    \"date\": date,\n",
    "                    \"mobile\": mobile,}\n",
    "print(len(combination))"
   ]
  },
  {
   "cell_type": "code",
   "execution_count": 22,
   "id": "51c61550",
   "metadata": {},
   "outputs": [
    {
     "name": "stdout",
     "output_type": "stream",
     "text": [
      "78\n"
     ]
    }
   ],
   "source": [
    "avatar_name = ['now_or_late']\n",
    "cities = ['valletta','vienna','copenhagen']\n",
    "languages = ['langue_k']\n",
    "mobiles = [0,1]\n",
    "dates = [44,43,42,41,40,39,38,37,5,4,3,2,1]\n",
    "combination=[]\n",
    "for count1,date in enumerate(dates):\n",
    "    for count2,city in enumerate(cities):\n",
    "        for count3,language in enumerate(languages):\n",
    "            for count4,mobile in enumerate(mobiles):\n",
    "                for count5,avatar in enumerate(avatar_name):\n",
    "                    combination.append((city,date,language,mobile))\n",
    "                    params = {\n",
    "                    \"avatar_name\": avatar,\n",
    "                    \"language\": language,\n",
    "                    \"city\": city,\n",
    "                    \"date\": date,\n",
    "                    \"mobile\": mobile,}\n",
    "print(len(combination))"
   ]
  },
  {
   "cell_type": "code",
   "execution_count": 29,
   "id": "590515ab",
   "metadata": {},
   "outputs": [
    {
     "name": "stdout",
     "output_type": "stream",
     "text": [
      "154\n"
     ]
    }
   ],
   "source": [
    "avatar_name = ['avatar_moyen']\n",
    "cities = ['amsterdam','copenhagen','madrid','sofia','valletta','vienna','vilnius']\n",
    "languages = ['sweedish','finnish']\n",
    "mobiles = [0]\n",
    "dates = np.linspace(15,25,11)\n",
    "combination=[]\n",
    "for count1,date in enumerate(dates):\n",
    "    for count2,city in enumerate(cities):\n",
    "        for count3,language in enumerate(languages):\n",
    "            for count4,mobile in enumerate(mobiles):\n",
    "                for count5,avatar in enumerate(avatar_name):\n",
    "                    combination.append((city,date,language,mobile))\n",
    "                    params = {\n",
    "                    \"avatar_name\": avatar,\n",
    "                    \"language\": language,\n",
    "                    \"city\": city,\n",
    "                    \"date\": date,\n",
    "                    \"mobile\": mobile,}\n",
    "print(len(combination))"
   ]
  },
  {
   "cell_type": "code",
   "execution_count": 34,
   "id": "022962a2",
   "metadata": {},
   "outputs": [
    {
     "name": "stdout",
     "output_type": "stream",
     "text": [
      "20\n"
     ]
    }
   ],
   "source": [
    "avatar_name = ['avatar_40']\n",
    "cities = ['amsterdam','copenhagen','vienna','vilnius']\n",
    "languages = ['langue_3']\n",
    "mobiles = [1]\n",
    "dates = [44,43,42,41,40]\n",
    "combination=[]\n",
    "for count1,date in enumerate(dates):\n",
    "    for count2,city in enumerate(cities):\n",
    "        for count3,language in enumerate(languages):\n",
    "            for count4,mobile in enumerate(mobiles):\n",
    "                for count5,avatar in enumerate(avatar_name):\n",
    "                    combination.append((city,date,language,mobile))\n",
    "                    params = {\n",
    "                    \"avatar_name\": avatar,\n",
    "                    \"language\": language,\n",
    "                    \"city\": city,\n",
    "                    \"date\": date,\n",
    "                    \"mobile\": mobile,}\n",
    "print(len(combination))"
   ]
  },
  {
   "cell_type": "code",
   "execution_count": 36,
   "id": "185d1447",
   "metadata": {},
   "outputs": [
    {
     "name": "stdout",
     "output_type": "stream",
     "text": [
      "36\n"
     ]
    }
   ],
   "source": [
    "avatar_name = ['avatar_now']\n",
    "cities = ['amsterdam','copenhagen','madrid','paris','rome','sofia','valletta','vienna','vilnius']\n",
    "languages = ['langue_k','langue_2']\n",
    "mobiles = [0,1]\n",
    "dates = [1]\n",
    "combination=[]\n",
    "for count1,date in enumerate(dates):\n",
    "    for count2,city in enumerate(cities):\n",
    "        for count3,language in enumerate(languages):\n",
    "            for count4,mobile in enumerate(mobiles):\n",
    "                for count5,avatar in enumerate(avatar_name):\n",
    "                    combination.append((city,date,language,mobile))\n",
    "                    params = {\n",
    "                    \"avatar_name\": avatar,\n",
    "                    \"language\": language,\n",
    "                    \"city\": city,\n",
    "                    \"date\": date,\n",
    "                    \"mobile\": mobile,}\n",
    "print(len(combination))"
   ]
  },
  {
   "cell_type": "code",
   "execution_count": 37,
   "id": "f6e41c62",
   "metadata": {},
   "outputs": [
    {
     "name": "stdout",
     "output_type": "stream",
     "text": [
      "30\n"
     ]
    }
   ],
   "source": [
    "avatar_name = ['avatar_amsterdam']\n",
    "cities = ['amsterdam']\n",
    "languages = ['langue_k']\n",
    "mobiles = [0,1]\n",
    "dates = np.linspace(1,15,15)\n",
    "combination=[]\n",
    "for count1,date in enumerate(dates):\n",
    "    for count2,city in enumerate(cities):\n",
    "        for count3,language in enumerate(languages):\n",
    "            for count4,mobile in enumerate(mobiles):\n",
    "                for count5,avatar in enumerate(avatar_name):\n",
    "                    combination.append((city,date,language,mobile))\n",
    "                    params = {\n",
    "                    \"avatar_name\": avatar,\n",
    "                    \"language\": language,\n",
    "                    \"city\": city,\n",
    "                    \"date\": date,\n",
    "                    \"mobile\": mobile,}\n",
    "print(len(combination))"
   ]
  },
  {
   "cell_type": "code",
   "execution_count": 40,
   "id": "b0c4da0f",
   "metadata": {},
   "outputs": [
    {
     "name": "stdout",
     "output_type": "stream",
     "text": [
      "60\n"
     ]
    }
   ],
   "source": [
    "avatar_name = ['avatar_paris']\n",
    "cities = ['paris','valletta']\n",
    "languages = ['langue_k']\n",
    "mobiles = [1]\n",
    "dates = np.linspace(10,40,30)\n",
    "combination=[]\n",
    "for count1,date in enumerate(dates):\n",
    "    for count2,city in enumerate(cities):\n",
    "        for count3,language in enumerate(languages):\n",
    "            for count4,mobile in enumerate(mobiles):\n",
    "                for count5,avatar in enumerate(avatar_name):\n",
    "                    combination.append((city,date,language,mobile))\n",
    "                    params = {\n",
    "                    \"avatar_name\": avatar,\n",
    "                    \"language\": language,\n",
    "                    \"city\": city,\n",
    "                    \"date\": date,\n",
    "                    \"mobile\": mobile,}\n",
    "print(len(combination))"
   ]
  },
  {
   "cell_type": "code",
   "execution_count": 42,
   "id": "88529586",
   "metadata": {},
   "outputs": [
    {
     "name": "stdout",
     "output_type": "stream",
     "text": [
      "14\n"
     ]
    }
   ],
   "source": [
    "avatar_name = ['avatar_madrid_vienna']\n",
    "cities = ['madrid']\n",
    "languages = ['langue_k']\n",
    "mobiles = [1]\n",
    "dates = np.linspace(30,44,14)\n",
    "combination=[]\n",
    "for count1,date in enumerate(dates):\n",
    "    for count2,city in enumerate(cities):\n",
    "        for count3,language in enumerate(languages):\n",
    "            for count4,mobile in enumerate(mobiles):\n",
    "                for count5,avatar in enumerate(avatar_name):\n",
    "                    combination.append((city,date,language,mobile))\n",
    "                    params = {\n",
    "                    \"avatar_name\": avatar,\n",
    "                    \"language\": language,\n",
    "                    \"city\": city,\n",
    "                    \"date\": date,\n",
    "                    \"mobile\": mobile,}\n",
    "print(len(combination))"
   ]
  },
  {
   "cell_type": "code",
   "execution_count": 45,
   "id": "5c08d717",
   "metadata": {},
   "outputs": [
    {
     "name": "stdout",
     "output_type": "stream",
     "text": [
      "15\n"
     ]
    }
   ],
   "source": [
    "avatar_name = ['avatar_madrid_vienna']\n",
    "cities = ['vienna']\n",
    "languages = ['langue_k']\n",
    "mobiles = [0]\n",
    "dates = np.linspace(1,15,15)\n",
    "combination=[]\n",
    "for count1,date in enumerate(dates):\n",
    "    for count2,city in enumerate(cities):\n",
    "        for count3,language in enumerate(languages):\n",
    "            for count4,mobile in enumerate(mobiles):\n",
    "                for count5,avatar in enumerate(avatar_name):\n",
    "                    combination.append((city,date,language,mobile))\n",
    "                    params = {\n",
    "                    \"avatar_name\": avatar,\n",
    "                    \"language\": language,\n",
    "                    \"city\": city,\n",
    "                    \"date\": date,\n",
    "                    \"mobile\": mobile,}\n",
    "print(len(combination))"
   ]
  },
  {
   "cell_type": "code",
   "execution_count": 46,
   "id": "bb7e6049",
   "metadata": {},
   "outputs": [
    {
     "name": "stdout",
     "output_type": "stream",
     "text": [
      "22\n"
     ]
    }
   ],
   "source": [
    "avatar_name = ['avatar_sofia_35']\n",
    "cities = ['sofia']\n",
    "languages = ['langue_k']\n",
    "mobiles = [0,1]\n",
    "dates = np.linspace(30,40,11)\n",
    "combination=[]\n",
    "for count1,date in enumerate(dates):\n",
    "    for count2,city in enumerate(cities):\n",
    "        for count3,language in enumerate(languages):\n",
    "            for count4,mobile in enumerate(mobiles):\n",
    "                for count5,avatar in enumerate(avatar_name):\n",
    "                    combination.append((city,date,language,mobile))\n",
    "                    params = {\n",
    "                    \"avatar_name\": avatar,\n",
    "                    \"language\": language,\n",
    "                    \"city\": city,\n",
    "                    \"date\": date,\n",
    "                    \"mobile\": mobile,}\n",
    "print(len(combination))"
   ]
  },
  {
   "cell_type": "code",
   "execution_count": 50,
   "id": "3ddcf3a2",
   "metadata": {},
   "outputs": [
    {
     "name": "stdout",
     "output_type": "stream",
     "text": [
      "60\n"
     ]
    }
   ],
   "source": [
    "avatar_name = ['avatar_europe_soon']\n",
    "cities = ['amsterdam','copenhagen','sofia','valletta','vienna','vilnius']\n",
    "languages = ['langue_k']\n",
    "mobiles = [1]\n",
    "dates = np.linspace(1,10,10)\n",
    "combination=[]\n",
    "for count1,date in enumerate(dates):\n",
    "    for count2,city in enumerate(cities):\n",
    "        for count3,language in enumerate(languages):\n",
    "            for count4,mobile in enumerate(mobiles):\n",
    "                for count5,avatar in enumerate(avatar_name):\n",
    "                    combination.append((city,date,language,mobile))\n",
    "                    params = {\n",
    "                    \"avatar_name\": avatar,\n",
    "                    \"language\": language,\n",
    "                    \"city\": city,\n",
    "                    \"date\": date,\n",
    "                    \"mobile\": mobile,}\n",
    "print(len(combination))"
   ]
  },
  {
   "cell_type": "code",
   "execution_count": null,
   "id": "0a2564de",
   "metadata": {},
   "outputs": [],
   "source": []
  }
 ],
 "metadata": {
  "kernelspec": {
   "display_name": "Python 3.9.12 64-bit",
   "language": "python",
   "name": "python3"
  },
  "language_info": {
   "codemirror_mode": {
    "name": "ipython",
    "version": 3
   },
   "file_extension": ".py",
   "mimetype": "text/x-python",
   "name": "python",
   "nbconvert_exporter": "python",
   "pygments_lexer": "ipython3",
   "version": "3.9.12"
  },
  "vscode": {
   "interpreter": {
    "hash": "48f05ad8a89f336a2732d69474815ca95af3e496060a1a85a1b1ca6f0f1530d5"
   }
  }
 },
 "nbformat": 4,
 "nbformat_minor": 5
}
