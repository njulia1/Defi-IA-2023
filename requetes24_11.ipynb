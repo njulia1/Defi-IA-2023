{
 "cells": [
  {
   "cell_type": "code",
   "execution_count": 5,
   "id": "fd664e0c",
   "metadata": {},
   "outputs": [
    {
     "name": "stdout",
     "output_type": "stream",
     "text": [
      "54\n"
     ]
    }
   ],
   "source": [
    "avatar_name = [\"hongrois\"]\n",
    "cities = ['valletta','vilinus','sofia']\n",
    "languages = ['hungarian']\n",
    "mobiles = [0,1]\n",
    "dates = [8,7,6,5,4,3,2,1,0]\n",
    "\n",
    "combination=[]\n",
    "for city in cities:\n",
    "    for date in dates:\n",
    "        for language in languages:\n",
    "            for mobile in mobiles:\n",
    "                combination.append((city,date,language,mobile))\n",
    "print(len(combination))"
   ]
  },
  {
   "cell_type": "code",
   "execution_count": 7,
   "id": "8b147bb3",
   "metadata": {},
   "outputs": [],
   "source": [
    "import numpy as np"
   ]
  },
  {
   "cell_type": "code",
   "execution_count": 9,
   "id": "ca3f9594",
   "metadata": {},
   "outputs": [
    {
     "name": "stdout",
     "output_type": "stream",
     "text": [
      "33\n"
     ]
    }
   ],
   "source": [
    "avatar_name = [\"austrian\"]\n",
    "cities = ['copenhagen','valletta','vilinus']\n",
    "languages = ['austrian']\n",
    "mobiles = [0]\n",
    "dates = np.linspace(40,30, num =11)\n",
    "\n",
    "combination=[]\n",
    "for city in cities:\n",
    "    for date in dates:\n",
    "        for language in languages:\n",
    "            for mobile in mobiles:\n",
    "                combination.append((city,date,language,mobile))\n",
    "print(len(combination))"
   ]
  },
  {
   "cell_type": "code",
   "execution_count": 10,
   "id": "26a4bbde",
   "metadata": {},
   "outputs": [
    {
     "name": "stdout",
     "output_type": "stream",
     "text": [
      "44\n"
     ]
    }
   ],
   "source": [
    "avatar_name = [\"belgian\"]\n",
    "cities = ['paris','rome','sofia','vienna']\n",
    "languages = ['austrian']\n",
    "mobiles = [1]\n",
    "dates = np.linspace(20,10, num =11)\n",
    "\n",
    "combination=[]\n",
    "for city in cities:\n",
    "    for date in dates:\n",
    "        for language in languages:\n",
    "            for mobile in mobiles:\n",
    "                combination.append((city,date,language,mobile))\n",
    "print(len(combination))"
   ]
  },
  {
   "cell_type": "code",
   "execution_count": 11,
   "id": "0888cfb8",
   "metadata": {},
   "outputs": [
    {
     "name": "stdout",
     "output_type": "stream",
     "text": [
      "132\n"
     ]
    }
   ],
   "source": [
    "avatar_name = [\"b\"]\n",
    "cities = ['amsterdam','madrid','paris','rome','sofia','vilinus']\n",
    "languages = ['blugarian']\n",
    "mobiles = [0,1]\n",
    "dates = np.linspace(20,10, num =11)\n",
    "\n",
    "combination=[]\n",
    "for city in cities:\n",
    "    for date in dates:\n",
    "        for language in languages:\n",
    "            for mobile in mobiles:\n",
    "                combination.append((city,date,language,mobile))\n",
    "print(len(combination))"
   ]
  },
  {
   "cell_type": "code",
   "execution_count": 13,
   "id": "b5776226",
   "metadata": {},
   "outputs": [
    {
     "name": "stdout",
     "output_type": "stream",
     "text": [
      "192\n"
     ]
    }
   ],
   "source": [
    "avatar_name = [\"le_c\"]\n",
    "cities = ['amsterdam','madrid','paris','rome','sofia','vilinus']\n",
    "languages = ['croatian']\n",
    "mobiles = [0,1]\n",
    "dates = np.concatenate((np.linspace(40,33, num =8),np.linspace(12,5, num =8)))\n",
    "\n",
    "combination=[]\n",
    "for city in cities:\n",
    "    for date in dates:\n",
    "        for language in languages:\n",
    "            for mobile in mobiles:\n",
    "                combination.append((city,date,language,mobile))\n",
    "print(len(combination))"
   ]
  },
  {
   "cell_type": "code",
   "execution_count": 15,
   "id": "abdcf0f9",
   "metadata": {},
   "outputs": [
    {
     "name": "stdout",
     "output_type": "stream",
     "text": [
      "162\n"
     ]
    }
   ],
   "source": [
    "avatar_name = [\"le_d\"]\n",
    "cities = ['amsterdam','copenhaguen','paris','rome','sofia','vilinus','madrid','valletta','vienna']\n",
    "languages = ['danish']\n",
    "mobiles = [0,1]\n",
    "dates = np.linspace(20,12, num = 9)\n",
    "\n",
    "combination=[]\n",
    "for city in cities:\n",
    "    for date in dates:\n",
    "        for language in languages:\n",
    "            for mobile in mobiles:\n",
    "                combination.append((city,date,language,mobile))\n",
    "print(len(combination))"
   ]
  },
  {
   "cell_type": "code",
   "execution_count": 16,
   "id": "47a5a73e",
   "metadata": {},
   "outputs": [
    {
     "name": "stdout",
     "output_type": "stream",
     "text": [
      "66\n"
     ]
    }
   ],
   "source": [
    "avatar_name = [\"le_L\"]\n",
    "cities = ['sofia','vienna','vilinus']\n",
    "languages = ['latvian']\n",
    "mobiles = [0,1]\n",
    "dates = np.linspace(40,30, num = 11)\n",
    "\n",
    "combination=[]\n",
    "for city in cities:\n",
    "    for date in dates:\n",
    "        for language in languages:\n",
    "            for mobile in mobiles:\n",
    "                combination.append((city,date,language,mobile))\n",
    "print(len(combination))"
   ]
  },
  {
   "cell_type": "code",
   "execution_count": 18,
   "id": "5d071675",
   "metadata": {},
   "outputs": [
    {
     "name": "stdout",
     "output_type": "stream",
     "text": [
      "64\n"
     ]
    }
   ],
   "source": [
    "avatar_name = [\"le_S\"]\n",
    "cities = ['amsterdam','copenhaguen','madrid','valletta']\n",
    "languages = ['slovene']\n",
    "mobiles = [0,1]\n",
    "dates = np.linspace(7,0, num = 8)\n",
    "\n",
    "combination=[]\n",
    "for city in cities:\n",
    "    for date in dates:\n",
    "        for language in languages:\n",
    "            for mobile in mobiles:\n",
    "                combination.append((city,date,language,mobile))\n",
    "print(len(combination))"
   ]
  },
  {
   "cell_type": "code",
   "execution_count": 20,
   "id": "9c40f926",
   "metadata": {},
   "outputs": [
    {
     "name": "stdout",
     "output_type": "stream",
     "text": [
      "66\n"
     ]
    }
   ],
   "source": [
    "avatar_name = [\"le_R\"]\n",
    "cities = ['copenhaguen','madrid','valletta']\n",
    "languages = ['romanian']\n",
    "mobiles = [0,1]\n",
    "dates = np.linspace(10,0, num = 11)\n",
    "\n",
    "combination=[]\n",
    "for city in cities:\n",
    "    for date in dates:\n",
    "        for language in languages:\n",
    "            for mobile in mobiles:\n",
    "                combination.append((city,date,language,mobile))\n",
    "print(len(combination))"
   ]
  },
  {
   "cell_type": "code",
   "execution_count": 21,
   "id": "64da8a03",
   "metadata": {},
   "outputs": [
    {
     "name": "stdout",
     "output_type": "stream",
     "text": [
      "44\n"
     ]
    }
   ],
   "source": [
    "avatar_name = [\"le_P\"]\n",
    "cities = ['sofia','vilnius','valletta','vienna']\n",
    "languages = ['portuguese']\n",
    "mobiles = [1]\n",
    "dates = np.linspace(10,0, num = 11)\n",
    "\n",
    "combination=[]\n",
    "for city in cities:\n",
    "    for date in dates:\n",
    "        for language in languages:\n",
    "            for mobile in mobiles:\n",
    "                combination.append((city,date,language,mobile))\n",
    "print(len(combination))"
   ]
  },
  {
   "cell_type": "code",
   "execution_count": 22,
   "id": "d90294ab",
   "metadata": {},
   "outputs": [
    {
     "name": "stdout",
     "output_type": "stream",
     "text": [
      "36\n"
     ]
    }
   ],
   "source": [
    "avatar_name = [\"le_P\"]\n",
    "cities = ['copenhaguen','vilnius','valletta']\n",
    "languages = ['swedish']\n",
    "mobiles = [0,1]\n",
    "dates = np.linspace(5,0, num = 6)\n",
    "\n",
    "combination=[]\n",
    "for city in cities:\n",
    "    for date in dates:\n",
    "        for language in languages:\n",
    "            for mobile in mobiles:\n",
    "                combination.append((city,date,language,mobile))\n",
    "print(len(combination))"
   ]
  },
  {
   "cell_type": "code",
   "execution_count": 26,
   "id": "2dbf0435",
   "metadata": {},
   "outputs": [
    {
     "name": "stdout",
     "output_type": "stream",
     "text": [
      "138\n"
     ]
    }
   ],
   "source": [
    "avatar_name = [\"budapest\"]\n",
    "cities = ['copenhaguen','vilnius','valletta']\n",
    "languages = ['swedish']\n",
    "mobiles = [0,1]\n",
    "dates = np.concatenate((np.linspace(40,35, num = 6),np.linspace(22,13, num = 10),np.linspace(6,0, num = 7)))\n",
    "\n",
    "combination=[]\n",
    "for city in cities:\n",
    "    for date in dates:\n",
    "        for language in languages:\n",
    "            for mobile in mobiles:\n",
    "                combination.append((city,date,language,mobile))\n",
    "print(len(combination))"
   ]
  },
  {
   "cell_type": "code",
   "execution_count": null,
   "id": "5b60ef2d",
   "metadata": {},
   "outputs": [],
   "source": []
  }
 ],
 "metadata": {
  "kernelspec": {
   "display_name": "Python 3 (ipykernel)",
   "language": "python",
   "name": "python3"
  },
  "language_info": {
   "codemirror_mode": {
    "name": "ipython",
    "version": 3
   },
   "file_extension": ".py",
   "mimetype": "text/x-python",
   "name": "python",
   "nbconvert_exporter": "python",
   "pygments_lexer": "ipython3",
   "version": "3.7.4"
  }
 },
 "nbformat": 4,
 "nbformat_minor": 5
}
